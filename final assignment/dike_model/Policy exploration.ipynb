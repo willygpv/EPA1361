{
 "cells": [
  {
   "cell_type": "markdown",
   "id": "598cd576",
   "metadata": {},
   "source": [
    "# Policy exploration #\n",
    "\n",
    "This notebook contains the exploration of the possible set of policy alternatives. Given the multi-actor decsion-making arena for water management, it is important to consider what possible preferred policy options could entail for other actors. Hence, exploring the policy options space could profide insights into multiple viable - but general - policy options. They are general in the sense that not one specific objective is centered in the search for a policy, and hence it is as objective as possible to find an effective policy. The latter assumes that all actors agree that minimizing deaths and damage costs is important. \n",
    "\n",
    "The found policy options originating in the policy space are compared to the base case results. In so doing, we assess whether any policy will improve the current situation and if a 'group' of policies may be found which have a common characteristic that seems to result in particulary preferred outcomes. For instance, policies that use RfR and dike heightening combined may be very effective in reducing the deaths.\n",
    "\n",
    "Throughout the notebook, guiding insights and next steps in the analysis are discussed."
   ]
  },
  {
   "cell_type": "code",
   "execution_count": 1,
   "id": "939ae754",
   "metadata": {},
   "outputs": [
    {
     "data": {
      "text/plain": [
       "<Logger EMA (DEBUG)>"
      ]
     },
     "execution_count": 1,
     "metadata": {},
     "output_type": "execute_result"
    }
   ],
   "source": [
    "# import the libaries\n",
    "import pandas as pd\n",
    "import matplotlib.pyplot as plt\n",
    "import seaborn as sns\n",
    "from sklearn import preprocessing\n",
    "import numpy as np\n",
    "\n",
    "# Import the workbench and model\n",
    "from ema_workbench import (Model, CategoricalParameter, ScalarOutcome, IntegerParameter, RealParameter)\n",
    "from ema_workbench import (MultiprocessingEvaluator, Policy, Scenario)\n",
    "from ema_workbench.em_framework.evaluators import perform_experiments\n",
    "from ema_workbench.em_framework.samplers import sample_uncertainties\n",
    "from ema_workbench.util import ema_logging, utilities\n",
    "from dike_model_function import DikeNetwork \n",
    "from ema_workbench import load_results\n",
    "from problem_formulation import get_model_for_problem_formulation\n",
    "\n",
    "ema_logging.log_to_stderr(ema_logging.INFO)"
   ]
  },
  {
   "cell_type": "markdown",
   "id": "705dc98d",
   "metadata": {},
   "source": [
    "Given the water management simulation model which includes different policy levers (RfR, dike heightening, and evacuation), we use the ema_workbench to randomly generate 100 policies and evaluate their performance under 400 scenarions. This thus results in 40.000 experiments. "
   ]
  },
  {
   "cell_type": "code",
   "execution_count": 2,
   "id": "4315be09",
   "metadata": {},
   "outputs": [
    {
     "name": "stderr",
     "output_type": "stream",
     "text": [
      "[MainProcess/INFO] pool started\n",
      "[MainProcess/INFO] performing 400 scenarios * 100 policies * 1 model(s) = 40000 experiments\n",
      "[MainProcess/INFO] 4000 cases completed\n",
      "[MainProcess/INFO] 8000 cases completed\n",
      "[MainProcess/INFO] 12000 cases completed\n",
      "[MainProcess/INFO] 16000 cases completed\n",
      "[MainProcess/INFO] 20000 cases completed\n",
      "[MainProcess/INFO] 24000 cases completed\n",
      "[MainProcess/INFO] 28000 cases completed\n",
      "[MainProcess/INFO] 32000 cases completed\n",
      "[MainProcess/INFO] 36000 cases completed\n",
      "[MainProcess/INFO] 40000 cases completed\n",
      "[MainProcess/INFO] experiments finished\n",
      "[MainProcess/INFO] terminating pool\n",
      "[MainProcess/INFO] results saved successfully to C:\\Users\\hidde\\OneDrive\\Documenten\\EPA\\Model Based Decision Making\\EPA1361\\final assignment\\results\\400times100PoliciesPF5.csv\n"
     ]
    }
   ],
   "source": [
    "# run the model with randomly generating policy options\n",
    "dike_model, planning_steps = get_model_for_problem_formulation(5)\n",
    "\n",
    "def sum_over(*args):\n",
    "    return sum(args)\n",
    "\n",
    "with MultiprocessingEvaluator(dike_model) as evaluator:\n",
    "    results = evaluator.perform_experiments(scenarios=400, policies=100)\n",
    "\n",
    "utilities.save_results(results, '../results/400times100PoliciesPF5.csv')\n"
   ]
  },
  {
   "cell_type": "code",
   "execution_count": 4,
   "id": "9c715758",
   "metadata": {},
   "outputs": [
    {
     "name": "stderr",
     "output_type": "stream",
     "text": [
      "[MainProcess/INFO] results saved successfully to C:\\Users\\hidde\\OneDrive\\Documenten\\EPA\\Model Based Decision Making\\EPA1361\\final assignment\\results\\40000scenarios.tar.gz\n"
     ]
    }
   ],
   "source": []
  },
  {
   "cell_type": "code",
   "execution_count": 6,
   "id": "f8a74009-06c7-4620-84d1-b8354611e293",
   "metadata": {},
   "outputs": [
    {
     "name": "stderr",
     "output_type": "stream",
     "text": [
      "[MainProcess/INFO] results loaded succesfully from C:\\Users\\hidde\\OneDrive\\Documenten\\EPA\\Model Based Decision Making\\EPA1361\\final assignment\\results\\40000scenarios.tar.gz\n"
     ]
    }
   ],
   "source": [
    "from ema_workbench import load_results\n",
    "test = load_results('../results/40000scenarios.tar.gz')"
   ]
  },
  {
   "cell_type": "code",
   "execution_count": 9,
   "id": "45747f67-2f69-46c9-9a34-7b10e11b8a7d",
   "metadata": {},
   "outputs": [
    {
     "data": {
      "text/plain": [
       "{'A.1_Expected Annual Damage 0': array([0.00000000e+00, 0.00000000e+00, 0.00000000e+00, ...,\n",
       "        0.00000000e+00, 6.11199897e+08, 0.00000000e+00]),\n",
       " 'A.1_Dike Investment Costs 0': array([85264360.79025151, 85264360.79025151, 85264360.79025151, ...,\n",
       "               0.        ,        0.        ,        0.        ]),\n",
       " 'A.1_Expected Number of Deaths 0': array([0.        , 0.        , 0.        , ..., 0.        , 0.08702129,\n",
       "        0.        ]),\n",
       " 'A.2_Expected Annual Damage 0': array([53023562.51615209,  1357644.82152781, 21712792.30820618, ...,\n",
       "               0.        ,        0.        ,        0.        ]),\n",
       " 'A.2_Dike Investment Costs 0': array([       0,        0,        0, ..., 59410102, 59410102, 59410102],\n",
       "       dtype=int64),\n",
       " 'A.2_Expected Number of Deaths 0': array([0.00574239, 0.0002441 , 0.00241079, ..., 0.        , 0.        ,\n",
       "        0.        ]),\n",
       " 'A.3_Expected Annual Damage 0': array([0., 0., 0., ..., 0., 0., 0.]),\n",
       " 'A.3_Dike Investment Costs 0': array([31398797.71871161, 31398797.71871161, 31398797.71871161, ...,\n",
       "        34221561.73832255, 34221561.73832255, 34221561.73832255]),\n",
       " 'A.3_Expected Number of Deaths 0': array([0., 0., 0., ..., 0., 0., 0.]),\n",
       " 'A.4_Expected Annual Damage 0': array([10691813.86622936,   835710.07893887,        0.        , ...,\n",
       "          415530.76675419,        0.        ,        0.        ]),\n",
       " 'A.4_Dike Investment Costs 0': array([ 6320800.30966624,  6320800.30966624,  6320800.30966624, ...,\n",
       "        14261651.78149925, 14261651.78149925, 14261651.78149925]),\n",
       " 'A.4_Expected Number of Deaths 0': array([5.55138490e-04, 8.37211731e-05, 0.00000000e+00, ...,\n",
       "        3.92764367e-05, 0.00000000e+00, 0.00000000e+00]),\n",
       " 'A.5_Expected Annual Damage 0': array([       0.        , 97303340.66514024, 23391012.27485129, ...,\n",
       "               0.        ,        0.        ,        0.        ]),\n",
       " 'A.5_Dike Investment Costs 0': array([27578229.96765524, 27578229.96765524, 27578229.96765524, ...,\n",
       "        58176627.77592012, 58176627.77592012, 58176627.77592012]),\n",
       " 'A.5_Expected Number of Deaths 0': array([0.        , 0.01568997, 0.00246922, ..., 0.        , 0.        ,\n",
       "        0.        ]),\n",
       " 'RfR Total Costs 0': array([3.407e+08, 3.407e+08, 3.407e+08, ..., 2.868e+08, 2.868e+08,\n",
       "        2.868e+08]),\n",
       " 'Expected Evacuation Costs 0': array([ 4217.22560136, 11030.28187916,  3027.12876064, ...,\n",
       "           28.3365024 ,  8437.4914829 ,     0.        ]),\n",
       " 'A.1_Expected Annual Damage 1': array([0., 0., 0., ..., 0., 0., 0.]),\n",
       " 'A.1_Dike Investment Costs 1': array([1.15371408e+08, 1.15371408e+08, 1.15371408e+08, ...,\n",
       "        4.78479480e+07, 4.78479480e+07, 4.78479480e+07]),\n",
       " 'A.1_Expected Number of Deaths 1': array([0., 0., 0., ..., 0., 0., 0.]),\n",
       " 'A.2_Expected Annual Damage 1': array([2686797.02382691,       0.        ,       0.        , ...,\n",
       "              0.        ,       0.        ,       0.        ]),\n",
       " 'A.2_Dike Investment Costs 1': array([53358573.6002109, 53358573.6002109, 53358573.6002109, ...,\n",
       "        50651471.5077507, 50651471.5077507, 50651471.5077507]),\n",
       " 'A.2_Expected Number of Deaths 1': array([0.00024256, 0.        , 0.        , ..., 0.        , 0.        ,\n",
       "        0.        ]),\n",
       " 'A.3_Expected Annual Damage 1': array([0., 0., 0., ..., 0., 0., 0.]),\n",
       " 'A.3_Dike Investment Costs 1': array([24833307.41887889, 24833307.41887889, 24833307.41887889, ...,\n",
       "        51377019.54500462, 51377019.54500462, 51377019.54500462]),\n",
       " 'A.3_Expected Number of Deaths 1': array([0., 0., 0., ..., 0., 0., 0.]),\n",
       " 'A.4_Expected Annual Damage 1': array([0., 0., 0., ..., 0., 0., 0.]),\n",
       " 'A.4_Dike Investment Costs 1': array([10026488.48329844, 10026488.48329844, 10026488.48329844, ...,\n",
       "        18043296.69353029, 18043296.69353029, 18043296.69353029]),\n",
       " 'A.4_Expected Number of Deaths 1': array([0., 0., 0., ..., 0., 0., 0.]),\n",
       " 'A.5_Expected Annual Damage 1': array([       0.        , 42836297.93596152,  7545610.62903391, ...,\n",
       "               0.        ,        0.        ,        0.        ]),\n",
       " 'A.5_Dike Investment Costs 1': array([32461241.15186436, 32461241.15186436, 32461241.15186436, ...,\n",
       "        67817149.07167621, 67817149.07167621, 67817149.07167621]),\n",
       " 'A.5_Expected Number of Deaths 1': array([0.        , 0.00463381, 0.0006354 , ..., 0.        , 0.        ,\n",
       "        0.        ]),\n",
       " 'RfR Total Costs 1': array([4.739e+08, 4.739e+08, 4.739e+08, ..., 4.080e+08, 4.080e+08,\n",
       "        4.080e+08]),\n",
       " 'Expected Evacuation Costs 1': array([ 125.49442264, 3031.58726574,  408.3523625 , ...,    0.        ,\n",
       "           0.        ,    0.        ]),\n",
       " 'A.1_Expected Annual Damage 2': array([0., 0., 0., ..., 0., 0., 0.]),\n",
       " 'A.1_Dike Investment Costs 2': array([       0,        0,        0, ..., 87274732, 87274732, 87274732],\n",
       "       dtype=int64),\n",
       " 'A.1_Expected Number of Deaths 2': array([0., 0., 0., ..., 0., 0., 0.]),\n",
       " 'A.2_Expected Annual Damage 2': array([0., 0., 0., ..., 0., 0., 0.]),\n",
       " 'A.2_Dike Investment Costs 2': array([61034218.72636557, 61034218.72636557, 61034218.72636557, ...,\n",
       "        54172222.80731667, 54172222.80731667, 54172222.80731667]),\n",
       " 'A.2_Expected Number of Deaths 2': array([0., 0., 0., ..., 0., 0., 0.]),\n",
       " 'A.3_Expected Annual Damage 2': array([0., 0., 0., ..., 0., 0., 0.]),\n",
       " 'A.3_Dike Investment Costs 2': array([25681882.78178197, 25681882.78178197, 25681882.78178197, ...,\n",
       "        34750216.18636404, 34750216.18636404, 34750216.18636404]),\n",
       " 'A.3_Expected Number of Deaths 2': array([0., 0., 0., ..., 0., 0., 0.]),\n",
       " 'A.4_Expected Annual Damage 2': array([0., 0., 0., ..., 0., 0., 0.]),\n",
       " 'A.4_Dike Investment Costs 2': array([ 8673386.12387895,  8673386.12387895,  8673386.12387895, ...,\n",
       "        22827689.28582948, 22827689.28582948, 22827689.28582948]),\n",
       " 'A.4_Expected Number of Deaths 2': array([0., 0., 0., ..., 0., 0., 0.]),\n",
       " 'A.5_Expected Annual Damage 2': array([     0.        , 843257.61985169,      0.        , ...,\n",
       "             0.        ,      0.        ,      0.        ]),\n",
       " 'A.5_Dike Investment Costs 2': array([39483013.13336766, 39483013.13336766, 39483013.13336766, ...,\n",
       "        45840284.62585965, 45840284.62585965, 45840284.62585965]),\n",
       " 'A.5_Expected Number of Deaths 2': array([0.        , 0.00011643, 0.        , ..., 0.        , 0.        ,\n",
       "        0.        ]),\n",
       " 'RfR Total Costs 2': array([2.178e+08, 2.178e+08, 2.178e+08, ..., 2.365e+08, 2.365e+08,\n",
       "        2.365e+08]),\n",
       " 'Expected Evacuation Costs 2': array([ 0.        , 73.83739457,  0.        , ...,  0.        ,\n",
       "         0.        ,  0.        ])}"
      ]
     },
     "execution_count": 9,
     "metadata": {},
     "output_type": "execute_result"
    }
   ],
   "source": [
    "t1, t2 = test\n",
    "t1\n",
    "t2"
   ]
  }
 ],
 "metadata": {
  "kernelspec": {
   "display_name": "Python 3",
   "language": "python",
   "name": "python3"
  },
  "language_info": {
   "codemirror_mode": {
    "name": "ipython",
    "version": 3
   },
   "file_extension": ".py",
   "mimetype": "text/x-python",
   "name": "python",
   "nbconvert_exporter": "python",
   "pygments_lexer": "ipython3",
   "version": "3.9.4"
  }
 },
 "nbformat": 4,
 "nbformat_minor": 5
}
