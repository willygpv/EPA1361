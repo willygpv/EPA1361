{
 "cells": [
  {
   "cell_type": "markdown",
   "id": "598cd576",
   "metadata": {},
   "source": [
    "# Policy exploration #\n",
    "\n",
    "This notebook contains the exploration of the possible set of policy alternatives. Given the multi-actor decsion-making arena for water management, it is important to consider what possible preferred policy options could entail for other actors. Hence, exploring the policy options space could profide insights into multiple viable - but general - policy options. They are general in the sense that not one specific objective is centered in the search for a policy, and hence it is as objective as possible to find an effective policy. The latter assumes that all actors agree that minimizing deaths and damage costs is important. \n",
    "\n",
    "The found policy options originating in the policy space are compared to the base case results. In so doing, we assess whether any policy will improve the current situation and if a 'group' of policies may be found which have a common characteristic that seems to result in particulary preferred outcomes. For instance, policies that use RfR and dike heightening combined may be very effective in reducing the deaths.\n",
    "\n",
    "Throughout the notebook, guiding insights and next steps in the analysis are discussed."
   ]
  },
  {
   "cell_type": "code",
   "execution_count": 2,
   "id": "939ae754",
   "metadata": {},
   "outputs": [
    {
     "data": {
      "text/plain": [
       "<Logger EMA (DEBUG)>"
      ]
     },
     "execution_count": 2,
     "metadata": {},
     "output_type": "execute_result"
    }
   ],
   "source": [
    "# import the libaries\n",
    "import pandas as pd\n",
    "import matplotlib.pyplot as plt\n",
    "import seaborn as sns\n",
    "from sklearn import preprocessing\n",
    "import numpy as np\n",
    "\n",
    "# Import the workbench and model\n",
    "from ema_workbench import (Model, CategoricalParameter, ScalarOutcome, IntegerParameter, RealParameter)\n",
    "from ema_workbench import (MultiprocessingEvaluator, Policy, Scenario)\n",
    "from ema_workbench.em_framework.evaluators import perform_experiments\n",
    "from ema_workbench.em_framework.samplers import sample_uncertainties\n",
    "from ema_workbench.util import ema_logging, utilities\n",
    "from dike_model_function import DikeNetwork \n",
    "from ema_workbench import load_results\n",
    "from problem_formulation import get_model_for_problem_formulation\n",
    "\n",
    "ema_logging.log_to_stderr(ema_logging.INFO)"
   ]
  },
  {
   "cell_type": "markdown",
   "id": "705dc98d",
   "metadata": {},
   "source": [
    "Given the water management simulation model which includes different policy levers (RfR, dike heightening, and evacuation), we use the ema_workbench to randomly generate 100 policies and evaluate their performance under 400 scenarions. This thus results in 40.000 experiments. "
   ]
  },
  {
   "cell_type": "code",
   "execution_count": null,
   "id": "4315be09",
   "metadata": {},
   "outputs": [
    {
     "name": "stderr",
     "output_type": "stream",
     "text": [
      "[MainProcess/INFO] pool started\n",
      "[MainProcess/INFO] performing 400 scenarios * 100 policies * 1 model(s) = 40000 experiments\n",
      "[MainProcess/INFO] 4000 cases completed\n",
      "[MainProcess/INFO] 8000 cases completed\n"
     ]
    }
   ],
   "source": [
    "# run the model with randomly generating policy options\n",
    "dike_model, planning_steps = get_model_for_problem_formulation(5)\n",
    "\n",
    "def sum_over(*args):\n",
    "    return sum(args)\n",
    "\n",
    "with MultiprocessingEvaluator(dike_model) as evaluator:\n",
    "    results = evaluator.perform_experiments(scenarios=400, policies=100)\n",
    "\n",
    "utilities.save_results(results, '../results/400times100PoliciesPF5.csv')\n"
   ]
  },
  {
   "cell_type": "code",
   "execution_count": null,
   "id": "9c715758",
   "metadata": {},
   "outputs": [],
   "source": []
  }
 ],
 "metadata": {
  "kernelspec": {
   "display_name": "Python 3",
   "language": "python",
   "name": "python3"
  }
 },
 "nbformat": 4,
 "nbformat_minor": 5
}
