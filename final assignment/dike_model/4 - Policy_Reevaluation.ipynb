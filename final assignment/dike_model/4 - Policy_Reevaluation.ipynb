{
 "cells": [
  {
   "cell_type": "markdown",
   "metadata": {},
   "source": [
    "# 4. Re-evaluation under deep uncertainty"
   ]
  },
  {
   "cell_type": "markdown",
   "metadata": {},
   "source": [
    "Optimizing generates a set of promising strategies that illustrate the key trade-offs on the relevant objectives (J.H.Kwakkel, Walker, et al. 2016). To counter scenario dependency that might result from optimizing policies only on the five previously selected worst-case scenarios, the identified policies were tested over the various deeply uncertain factors to assess their robustness against uncertainties. A larger scenario sampling also allows us to obtain a more representative value of the robustness of each policy.\n",
    "\n",
    "\n"
   ]
  },
  {
   "cell_type": "markdown",
   "metadata": {},
   "source": [
    "# 1.1 Generate random policies"
   ]
  },
  {
   "cell_type": "code",
   "execution_count": 1,
   "metadata": {},
   "outputs": [],
   "source": [
    "import pandas as pd\n",
    "import numpy as np\n",
    "\n",
    "import matplotlib.pyplot as plt\n",
    "import seaborn as sns\n",
    "\n",
    "from ema_workbench import load_results\n",
    "from ema_workbench.em_framework.evaluators import perform_experiments\n",
    "from ema_workbench.em_framework.samplers import sample_uncertainties\n",
    "from ema_workbench.util import ema_logging\n",
    "from ema_workbench.em_framework.optimization import (HyperVolume, EpsilonProgress)\n",
    "from ema_workbench import (Model, CategoricalParameter,\n",
    "                           ScalarOutcome, IntegerParameter, RealParameter)\n",
    "from ema_workbench import (Model, MultiprocessingEvaluator, SequentialEvaluator,\n",
    "                           Constraint, Policy, Scenario)\n",
    "from ema_workbench.analysis import parcoords\n",
    "\n",
    "\n",
    "from problem_formulation import get_model_for_problem_formulation\n",
    "\n",
    "import time"
   ]
  },
  {
   "cell_type": "markdown",
   "metadata": {},
   "source": [
    "Re-evaluation"
   ]
  },
  {
   "cell_type": "code",
   "execution_count": 2,
   "metadata": {},
   "outputs": [],
   "source": [
    "## \n",
    "\n",
    "\n",
    "# results_deep = []\n",
    "# convergence_all = []\n",
    "\n",
    "# for i in range(5):\n",
    "#     print(i)\n",
    "#     result, convergence = load_results(f'../results/mordm_7500_rp_scenario{i}.tar.gz')\n",
    "#     results_deep.append(result)\n",
    "#     convergence_all.append(convergence)\n",
    "\n",
    "\n",
    "\n",
    "# policies = []\n",
    "# for i, result in enumerate(results_deep):\n",
    "#     outcomes_of_interest = result.iloc[:, :-3]\n",
    "#     for j, row in outcomes_of_interest.iterrows():\n",
    "#         policy = Policy(f'scenario {i} policy {j}', **row.to_dict())\n",
    "#         policies.append(policy)\n",
    "\n",
    "\n",
    "\n",
    "\n",
    "# We use the original problem formulation to account for the RfR policies\n",
    "# dike_model, planning_steps = get_model_for_problem_formulation(2)\n",
    "\n",
    "# ema_logging.log_to_stderr(ema_logging.INFO)\n",
    "\n",
    "# with MultiprocessingEvaluator(dike_model) as evaluator:\n",
    "#     reeevaluation_results = evaluator.perform_experiments(500, policies=policies)\n",
    "    \n",
    "# experiments_reev, outcomes_reev = reeevaluation_results\n",
    "\n",
    "# from ema_workbench import save_results\n",
    "# save_results((experiments_reev, outcomes_reev), f'../results/mordm_exp_2_1000.tar.gz')"
   ]
  },
  {
   "cell_type": "code",
   "execution_count": 3,
   "metadata": {},
   "outputs": [],
   "source": [
    "# We use the original problem formulation to account for the RfR policies\n",
    "dike_model, planning_steps = get_model_for_problem_formulation(2)"
   ]
  },
  {
   "cell_type": "code",
   "execution_count": 4,
   "metadata": {},
   "outputs": [],
   "source": [
    "experiments_reev, outcomes_reev = load_results('../results/mordm_exp_2_1000.tar.gz') \n",
    "outcomes_reev_df = pd.DataFrame.from_dict(outcomes_reev)"
   ]
  },
  {
   "cell_type": "markdown",
   "metadata": {},
   "source": [
    "Comparing both cells below we can see how we have 42 unique policies."
   ]
  },
  {
   "cell_type": "code",
   "execution_count": 5,
   "metadata": {},
   "outputs": [
    {
     "data": {
      "text/plain": [
       "True     20958\n",
       "False       42\n",
       "dtype: int64"
      ]
     },
     "execution_count": 5,
     "metadata": {},
     "output_type": "execute_result"
    }
   ],
   "source": [
    "experiments_reev.iloc[:,19:-3].duplicated().value_counts()"
   ]
  },
  {
   "cell_type": "code",
   "execution_count": 6,
   "metadata": {},
   "outputs": [
    {
     "data": {
      "text/plain": [
       "42"
      ]
     },
     "execution_count": 6,
     "metadata": {},
     "output_type": "execute_result"
    }
   ],
   "source": [
    "experiments_reev['policy'].nunique()"
   ]
  },
  {
   "cell_type": "markdown",
   "metadata": {},
   "source": [
    "We now only chose the policies that keep the number of deaths under the threshold in ALL scenarios"
   ]
  },
  {
   "cell_type": "code",
   "execution_count": 7,
   "metadata": {},
   "outputs": [
    {
     "data": {
      "text/html": [
       "<div>\n",
       "<style scoped>\n",
       "    .dataframe tbody tr th:only-of-type {\n",
       "        vertical-align: middle;\n",
       "    }\n",
       "\n",
       "    .dataframe tbody tr th {\n",
       "        vertical-align: top;\n",
       "    }\n",
       "\n",
       "    .dataframe thead th {\n",
       "        text-align: right;\n",
       "    }\n",
       "</style>\n",
       "<table border=\"1\" class=\"dataframe\">\n",
       "  <thead>\n",
       "    <tr style=\"text-align: right;\">\n",
       "      <th></th>\n",
       "      <th>Expected Annual Damage</th>\n",
       "      <th>Dike Investment Costs</th>\n",
       "      <th>RfR Investment Costs</th>\n",
       "      <th>Evacuation Costs</th>\n",
       "      <th>Expected Number of Deaths</th>\n",
       "    </tr>\n",
       "  </thead>\n",
       "  <tbody>\n",
       "    <tr>\n",
       "      <th>count</th>\n",
       "      <td>2.100000e+04</td>\n",
       "      <td>2.100000e+04</td>\n",
       "      <td>2.100000e+04</td>\n",
       "      <td>21000.000000</td>\n",
       "      <td>21000.000000</td>\n",
       "    </tr>\n",
       "    <tr>\n",
       "      <th>mean</th>\n",
       "      <td>9.174717e+07</td>\n",
       "      <td>9.998493e+07</td>\n",
       "      <td>1.751971e+09</td>\n",
       "      <td>3407.984925</td>\n",
       "      <td>0.009067</td>\n",
       "    </tr>\n",
       "    <tr>\n",
       "      <th>std</th>\n",
       "      <td>3.406452e+08</td>\n",
       "      <td>2.086492e+07</td>\n",
       "      <td>2.994190e+08</td>\n",
       "      <td>7980.440903</td>\n",
       "      <td>0.030620</td>\n",
       "    </tr>\n",
       "    <tr>\n",
       "      <th>min</th>\n",
       "      <td>0.000000e+00</td>\n",
       "      <td>6.087036e+07</td>\n",
       "      <td>9.759000e+08</td>\n",
       "      <td>0.000000</td>\n",
       "      <td>0.000000</td>\n",
       "    </tr>\n",
       "    <tr>\n",
       "      <th>25%</th>\n",
       "      <td>1.544874e+06</td>\n",
       "      <td>8.173593e+07</td>\n",
       "      <td>1.572700e+09</td>\n",
       "      <td>112.189787</td>\n",
       "      <td>0.000105</td>\n",
       "    </tr>\n",
       "    <tr>\n",
       "      <th>50%</th>\n",
       "      <td>1.299621e+07</td>\n",
       "      <td>1.017962e+08</td>\n",
       "      <td>1.828800e+09</td>\n",
       "      <td>831.723645</td>\n",
       "      <td>0.001412</td>\n",
       "    </tr>\n",
       "    <tr>\n",
       "      <th>75%</th>\n",
       "      <td>4.840653e+07</td>\n",
       "      <td>1.158001e+08</td>\n",
       "      <td>2.015900e+09</td>\n",
       "      <td>2762.519602</td>\n",
       "      <td>0.005346</td>\n",
       "    </tr>\n",
       "    <tr>\n",
       "      <th>max</th>\n",
       "      <td>3.043916e+09</td>\n",
       "      <td>1.380248e+08</td>\n",
       "      <td>2.131200e+09</td>\n",
       "      <td>117778.445391</td>\n",
       "      <td>0.464258</td>\n",
       "    </tr>\n",
       "  </tbody>\n",
       "</table>\n",
       "</div>"
      ],
      "text/plain": [
       "       Expected Annual Damage  Dike Investment Costs  RfR Investment Costs  \\\n",
       "count            2.100000e+04           2.100000e+04          2.100000e+04   \n",
       "mean             9.174717e+07           9.998493e+07          1.751971e+09   \n",
       "std              3.406452e+08           2.086492e+07          2.994190e+08   \n",
       "min              0.000000e+00           6.087036e+07          9.759000e+08   \n",
       "25%              1.544874e+06           8.173593e+07          1.572700e+09   \n",
       "50%              1.299621e+07           1.017962e+08          1.828800e+09   \n",
       "75%              4.840653e+07           1.158001e+08          2.015900e+09   \n",
       "max              3.043916e+09           1.380248e+08          2.131200e+09   \n",
       "\n",
       "       Evacuation Costs  Expected Number of Deaths  \n",
       "count      21000.000000               21000.000000  \n",
       "mean        3407.984925                   0.009067  \n",
       "std         7980.440903                   0.030620  \n",
       "min            0.000000                   0.000000  \n",
       "25%          112.189787                   0.000105  \n",
       "50%          831.723645                   0.001412  \n",
       "75%         2762.519602                   0.005346  \n",
       "max       117778.445391                   0.464258  "
      ]
     },
     "execution_count": 7,
     "metadata": {},
     "output_type": "execute_result"
    }
   ],
   "source": [
    "outcomes_reev_df.describe()"
   ]
  },
  {
   "cell_type": "code",
   "execution_count": 8,
   "metadata": {},
   "outputs": [
    {
     "data": {
      "text/plain": [
       "[]"
      ]
     },
     "execution_count": 8,
     "metadata": {},
     "output_type": "execute_result"
    }
   ],
   "source": [
    "outcomes_reev_df['policy']= experiments_reev['policy']\n",
    "policy_names = outcomes_reev_df.policy.unique()\n",
    "\n",
    "max_num_deaths = 0.0001 * 3 * 5\n",
    "\n",
    "policies_of_interest = []\n",
    "for policy in policy_names:\n",
    "    policy_df = outcomes_reev_df[outcomes_reev_df['policy'] == policy]\n",
    "    policy_df_logical = policy_df['Expected Number of Deaths'] > max_num_deaths\n",
    "    type(policy_df_logical)\n",
    "    if policy_df_logical.any():\n",
    "        continue\n",
    "    else:\n",
    "        policies_of_interest.append(policy)\n",
    "\n",
    "policies_of_interest"
   ]
  },
  {
   "cell_type": "markdown",
   "metadata": {},
   "source": [
    "We can see that there is no policy that obeys the threshold under all scenarios. We therefore calculate the robustness using the thresholds. This gives us an idea of how far off we are."
   ]
  },
  {
   "cell_type": "code",
   "execution_count": 9,
   "metadata": {},
   "outputs": [
    {
     "data": {
      "text/plain": [
       "10610"
      ]
     },
     "execution_count": 9,
     "metadata": {},
     "output_type": "execute_result"
    }
   ],
   "source": [
    "outcomes_reev_df_death= outcomes_reev_df[outcomes_reev_df['Expected Number of Deaths']<=max_num_deaths]\n",
    "len(outcomes_reev_df_death)"
   ]
  },
  {
   "cell_type": "code",
   "execution_count": 10,
   "metadata": {},
   "outputs": [],
   "source": [
    "import functools\n",
    "\n",
    "def robustness(direction, threshold, data):\n",
    "    if direction == 'SMALLER':\n",
    "        return np.sum(data<=threshold)/data.shape[0]\n",
    "    else:\n",
    "        return np.sum(data>=threshold)/data.shape[0]\n",
    "\n",
    "def dummy(data):\n",
    "    return data[0] # makes numbers nicer CAREFUL WITH UNITS\n",
    "    \n",
    "SMALLER = 'SMALLER'\n",
    "\n",
    "\n",
    "max_num_deaths = 0.0001 * 3 * 5\n",
    "max_rfr_costs = 1.1e9\n",
    "max_dike_costs = 3.04e8\n",
    "\n",
    "Expected_Annual_Damage = dummy\n",
    "Dike_Investment_Costs = functools.partial(robustness, SMALLER, max_dike_costs)\n",
    "Expected_Number_of_Deaths = functools.partial(robustness, SMALLER, max_num_deaths)\n",
    "RfR_Investment_Costs = functools.partial(robustness, SMALLER, max_rfr_costs)\n",
    "Evacuation_Costs = dummy"
   ]
  },
  {
   "cell_type": "code",
   "execution_count": 11,
   "metadata": {},
   "outputs": [
    {
     "name": "stderr",
     "output_type": "stream",
     "text": [
      "No handles with labels found to put in legend.\n"
     ]
    },
    {
     "data": {
      "image/png": "[encoded data removed]",
      "text/plain": [
       "<Figure size 432x288 with 2 Axes>"
      ]
     },
     "metadata": {},
     "output_type": "display_data"
    }
   ],
   "source": [
    "from ema_workbench.analysis import parcoords\n",
    "import matplotlib.lines as mlines\n",
    "\n",
    "\n",
    "funcs = {'Expected Annual Damage': Expected_Annual_Damage,\n",
    "         'Dike Investment Costs': Dike_Investment_Costs,\n",
    "         'Expected Number of Deaths':Expected_Number_of_Deaths,\n",
    "         'RfR Investment Costs':RfR_Investment_Costs,       \n",
    "         'Evacuation Costs': Evacuation_Costs}\n",
    "\n",
    "total_scores = {}\n",
    "for policy in experiments_reev.policy.unique():\n",
    "    scores = {}\n",
    "    logical = experiments_reev['policy'] == policy\n",
    "    \n",
    "    temp_outcomes = {k:v[logical] for k,v in outcomes_reev.items()}\n",
    "    \n",
    "    for k, v in temp_outcomes.items():\n",
    "        score = funcs[k](v)\n",
    "        scores[k] = score\n",
    "    total_scores[policy] = scores\n",
    "\n",
    "data_domain = pd.DataFrame(total_scores).T#.reset_index(drop=True)\n",
    "data_domain = data_domain.drop(data_domain.columns[0], axis=1)\n",
    "data_domain = data_domain.drop(data_domain.columns[-2], axis=1)\n",
    "limits = parcoords.get_limits(data_domain)\n",
    "# limits.loc[0, :] = 0\n",
    "# limits.loc[1, :] = 1\n",
    "\n",
    "\n",
    "paraxes = parcoords.ParallelAxes(limits)\n",
    "paraxes.plot(data_domain)\n",
    "plt.legend()\n",
    "plt.show()"
   ]
  },
  {
   "cell_type": "code",
   "execution_count": 12,
   "metadata": {},
   "outputs": [
    {
     "data": {
      "text/html": [
       "<div>\n",
       "<style scoped>\n",
       "    .dataframe tbody tr th:only-of-type {\n",
       "        vertical-align: middle;\n",
       "    }\n",
       "\n",
       "    .dataframe tbody tr th {\n",
       "        vertical-align: top;\n",
       "    }\n",
       "\n",
       "    .dataframe thead th {\n",
       "        text-align: right;\n",
       "    }\n",
       "</style>\n",
       "<table border=\"1\" class=\"dataframe\">\n",
       "  <thead>\n",
       "    <tr style=\"text-align: right;\">\n",
       "      <th></th>\n",
       "      <th>Dike Investment Costs</th>\n",
       "      <th>RfR Investment Costs</th>\n",
       "      <th>Expected Number of Deaths</th>\n",
       "    </tr>\n",
       "  </thead>\n",
       "  <tbody>\n",
       "    <tr>\n",
       "      <th>scenario 2 policy 9</th>\n",
       "      <td>1.0</td>\n",
       "      <td>0.0</td>\n",
       "      <td>0.684</td>\n",
       "    </tr>\n",
       "    <tr>\n",
       "      <th>scenario 3 policy 4</th>\n",
       "      <td>1.0</td>\n",
       "      <td>0.0</td>\n",
       "      <td>0.686</td>\n",
       "    </tr>\n",
       "    <tr>\n",
       "      <th>scenario 0 policy 0</th>\n",
       "      <td>1.0</td>\n",
       "      <td>0.0</td>\n",
       "      <td>0.706</td>\n",
       "    </tr>\n",
       "    <tr>\n",
       "      <th>scenario 3 policy 0</th>\n",
       "      <td>1.0</td>\n",
       "      <td>1.0</td>\n",
       "      <td>0.712</td>\n",
       "    </tr>\n",
       "    <tr>\n",
       "      <th>scenario 3 policy 2</th>\n",
       "      <td>1.0</td>\n",
       "      <td>0.0</td>\n",
       "      <td>0.766</td>\n",
       "    </tr>\n",
       "  </tbody>\n",
       "</table>\n",
       "</div>"
      ],
      "text/plain": [
       "                     Dike Investment Costs  RfR Investment Costs  \\\n",
       "scenario 2 policy 9                    1.0                   0.0   \n",
       "scenario 3 policy 4                    1.0                   0.0   \n",
       "scenario 0 policy 0                    1.0                   0.0   \n",
       "scenario 3 policy 0                    1.0                   1.0   \n",
       "scenario 3 policy 2                    1.0                   0.0   \n",
       "\n",
       "                     Expected Number of Deaths  \n",
       "scenario 2 policy 9                      0.684  \n",
       "scenario 3 policy 4                      0.686  \n",
       "scenario 0 policy 0                      0.706  \n",
       "scenario 3 policy 0                      0.712  \n",
       "scenario 3 policy 2                      0.766  "
      ]
     },
     "execution_count": 12,
     "metadata": {},
     "output_type": "execute_result"
    }
   ],
   "source": [
    "data_death = data_domain.sort_values(by=['Expected Number of Deaths']).tail()\n",
    "data_death"
   ]
  },
  {
   "cell_type": "markdown",
   "metadata": {},
   "source": [
    "These are the 5 policies that are the most robust in terms of Death mitigation"
   ]
  },
  {
   "cell_type": "code",
   "execution_count": 13,
   "metadata": {},
   "outputs": [
    {
     "data": {
      "text/html": [
       "<div>\n",
       "<style scoped>\n",
       "    .dataframe tbody tr th:only-of-type {\n",
       "        vertical-align: middle;\n",
       "    }\n",
       "\n",
       "    .dataframe tbody tr th {\n",
       "        vertical-align: top;\n",
       "    }\n",
       "\n",
       "    .dataframe thead th {\n",
       "        text-align: right;\n",
       "    }\n",
       "</style>\n",
       "<table border=\"1\" class=\"dataframe\">\n",
       "  <thead>\n",
       "    <tr style=\"text-align: right;\">\n",
       "      <th></th>\n",
       "      <th>Dike Investment Costs</th>\n",
       "      <th>RfR Investment Costs</th>\n",
       "      <th>Expected Number of Deaths</th>\n",
       "    </tr>\n",
       "  </thead>\n",
       "  <tbody>\n",
       "    <tr>\n",
       "      <th>scenario 3 policy 0</th>\n",
       "      <td>1.0</td>\n",
       "      <td>1.0</td>\n",
       "      <td>0.712</td>\n",
       "    </tr>\n",
       "    <tr>\n",
       "      <th>scenario 3 policy 3</th>\n",
       "      <td>1.0</td>\n",
       "      <td>1.0</td>\n",
       "      <td>0.628</td>\n",
       "    </tr>\n",
       "    <tr>\n",
       "      <th>scenario 3 policy 5</th>\n",
       "      <td>1.0</td>\n",
       "      <td>1.0</td>\n",
       "      <td>0.570</td>\n",
       "    </tr>\n",
       "  </tbody>\n",
       "</table>\n",
       "</div>"
      ],
      "text/plain": [
       "                     Dike Investment Costs  RfR Investment Costs  \\\n",
       "scenario 3 policy 0                    1.0                   1.0   \n",
       "scenario 3 policy 3                    1.0                   1.0   \n",
       "scenario 3 policy 5                    1.0                   1.0   \n",
       "\n",
       "                     Expected Number of Deaths  \n",
       "scenario 3 policy 0                      0.712  \n",
       "scenario 3 policy 3                      0.628  \n",
       "scenario 3 policy 5                      0.570  "
      ]
     },
     "execution_count": 13,
     "metadata": {},
     "output_type": "execute_result"
    }
   ],
   "source": [
    "data_rfr = data_domain[data_domain['RfR Investment Costs'] == 1.0]\n",
    "data_rfr"
   ]
  },
  {
   "cell_type": "markdown",
   "metadata": {},
   "source": [
    "These are the policies which are below the RfR investment cost threshold defined by RWS. Since we want to propose a policy that is likely to be approved by the RWS, the policies that are the RfR investment costs threshold are chosen for further investigation. Additionally, the best performing policy in terms of Death Minimalization is also further investigated, due to it meeting the threshold set by the Delta Commission. "
   ]
  },
  {
   "cell_type": "code",
   "execution_count": 14,
   "metadata": {},
   "outputs": [],
   "source": [
    "potential_policies = [policy for policy in data_rfr.index]\n",
    "potential_policies.append(data_death.index[-1])\n",
    "\n",
    "df_potential_policies = outcomes_reev_df[outcomes_reev_df['policy'].isin(potential_policies)]"
   ]
  },
  {
   "cell_type": "code",
   "execution_count": 15,
   "metadata": {},
   "outputs": [],
   "source": [
    "df_potential_policies.to_csv('../results/outcomes_reev_df.csv')"
   ]
  },
  {
   "cell_type": "code",
   "execution_count": 16,
   "metadata": {},
   "outputs": [
    {
     "data": {
      "text/html": [
       "<div>\n",
       "<style scoped>\n",
       "    .dataframe tbody tr th:only-of-type {\n",
       "        vertical-align: middle;\n",
       "    }\n",
       "\n",
       "    .dataframe tbody tr th {\n",
       "        vertical-align: top;\n",
       "    }\n",
       "\n",
       "    .dataframe thead th {\n",
       "        text-align: right;\n",
       "    }\n",
       "</style>\n",
       "<table border=\"1\" class=\"dataframe\">\n",
       "  <thead>\n",
       "    <tr style=\"text-align: right;\">\n",
       "      <th></th>\n",
       "      <th>Dike Investment Costs</th>\n",
       "      <th>RfR Investment Costs</th>\n",
       "      <th>Expected Number of Deaths</th>\n",
       "    </tr>\n",
       "  </thead>\n",
       "  <tbody>\n",
       "    <tr>\n",
       "      <th>scenario 3 policy 0</th>\n",
       "      <td>1.0</td>\n",
       "      <td>1.0</td>\n",
       "      <td>0.712</td>\n",
       "    </tr>\n",
       "    <tr>\n",
       "      <th>scenario 3 policy 2</th>\n",
       "      <td>1.0</td>\n",
       "      <td>0.0</td>\n",
       "      <td>0.766</td>\n",
       "    </tr>\n",
       "    <tr>\n",
       "      <th>scenario 3 policy 3</th>\n",
       "      <td>1.0</td>\n",
       "      <td>1.0</td>\n",
       "      <td>0.628</td>\n",
       "    </tr>\n",
       "    <tr>\n",
       "      <th>scenario 3 policy 5</th>\n",
       "      <td>1.0</td>\n",
       "      <td>1.0</td>\n",
       "      <td>0.570</td>\n",
       "    </tr>\n",
       "  </tbody>\n",
       "</table>\n",
       "</div>"
      ],
      "text/plain": [
       "                     Dike Investment Costs  RfR Investment Costs  \\\n",
       "scenario 3 policy 0                    1.0                   1.0   \n",
       "scenario 3 policy 2                    1.0                   0.0   \n",
       "scenario 3 policy 3                    1.0                   1.0   \n",
       "scenario 3 policy 5                    1.0                   1.0   \n",
       "\n",
       "                     Expected Number of Deaths  \n",
       "scenario 3 policy 0                      0.712  \n",
       "scenario 3 policy 2                      0.766  \n",
       "scenario 3 policy 3                      0.628  \n",
       "scenario 3 policy 5                      0.570  "
      ]
     },
     "execution_count": 16,
     "metadata": {},
     "output_type": "execute_result"
    }
   ],
   "source": [
    "data_policies = data_domain[data_domain.index.isin(potential_policies)]\n",
    "data_policies"
   ]
  },
  {
   "cell_type": "code",
   "execution_count": 17,
   "metadata": {},
   "outputs": [],
   "source": [
    "policy1_df = outcomes_reev_df[outcomes_reev_df['policy']==potential_policies[0]].iloc[:,:-1]\n",
    "policy2_df = outcomes_reev_df[outcomes_reev_df['policy']==potential_policies[1]].iloc[:,:-1]\n",
    "policy3_df = outcomes_reev_df[outcomes_reev_df['policy']==potential_policies[2]].iloc[:,:-1]\n",
    "policy4_df = outcomes_reev_df[outcomes_reev_df['policy']==potential_policies[3]].iloc[:,:-1]\n",
    "\n",
    "frames = [policy1_df,policy2_df,policy3_df,policy4_df]\n",
    "all_data = pd.concat(frames)"
   ]
  },
  {
   "cell_type": "code",
   "execution_count": 20,
   "metadata": {},
   "outputs": [
    {
     "name": "stderr",
     "output_type": "stream",
     "text": [
      "C:\\Users\\Willy\\Anaconda3\\lib\\site-packages\\ema_workbench\\analysis\\parcoords.py:198: UserWarning: Tight layout not applied. The bottom and top margins cannot be made large enough to accommodate all axes decorations. \n",
      "  plt.tight_layout(h_pad=0, w_pad=0)\n",
      "C:\\Users\\Willy\\Anaconda3\\lib\\site-packages\\ema_workbench\\analysis\\parcoords.py:261: UserWarning: Tight layout not applied. The bottom and top margins cannot be made large enough to accommodate all axes decorations. \n",
      "  plt.tight_layout(h_pad=0, w_pad=0)\n"
     ]
    },
    {
     "data": {
      "image/png": "[encoded data removed]",
      "text/plain": [
       "<Figure size 720x144 with 4 Axes>"
      ]
     },
     "metadata": {},
     "output_type": "display_data"
    }
   ],
   "source": [
    "\n",
    "policy1_df = outcomes_reev_df[outcomes_reev_df['policy']==potential_policies[0]].iloc[:,:-1]\n",
    "policy2_df = outcomes_reev_df[outcomes_reev_df['policy']==potential_policies[1]].iloc[:,:-1]\n",
    "policy3_df = outcomes_reev_df[outcomes_reev_df['policy']==potential_policies[2]].iloc[:,:-1]\n",
    "policy4_df = outcomes_reev_df[outcomes_reev_df['policy']==potential_policies[3]].iloc[:,:-1]\n",
    "\n",
    "frames = [policy1_df,policy2_df,policy3_df,policy4_df]\n",
    "all_data = pd.concat(frames)\n",
    "\n",
    "limits = parcoords.get_limits(all_data)\n",
    "axes = parcoords.ParallelAxes(limits)\n",
    "axes.plot(policy1_df, color=sns.color_palette()[0], label='Policy 1')\n",
    "axes.plot(policy4_df, color=sns.color_palette()[3], label='Policy 2')\n",
    "axes.plot(policy2_df, color=sns.color_palette()[1], label='Policy 3')\n",
    "axes.plot(policy3_df, color=sns.color_palette()[2], label='Policy 4')\n",
    "\n",
    "plt.rcParams.update(plt.rcParamsDefault)\n",
    "plt.rcParams[\"figure.figsize\"] = (10,2)\n",
    "\n",
    "axes.legend()\n",
    "plt.savefig('../images/parcoord_500.png', dpi=300, bbox_inches = \"tight\")\n",
    "plt.show()"
   ]
  },
  {
   "cell_type": "markdown",
   "metadata": {},
   "source": [
    "## FIND A COUPLE EXTRA POLICIES"
   ]
  },
  {
   "cell_type": "code",
   "execution_count": 22,
   "metadata": {},
   "outputs": [
    {
     "name": "stderr",
     "output_type": "stream",
     "text": [
      "C:\\Users\\Willy\\Anaconda3\\lib\\site-packages\\ema_workbench\\analysis\\parcoords.py:198: UserWarning: Tight layout not applied. The bottom and top margins cannot be made large enough to accommodate all axes decorations. \n",
      "  plt.tight_layout(h_pad=0, w_pad=0)\n",
      "C:\\Users\\Willy\\Anaconda3\\lib\\site-packages\\ema_workbench\\analysis\\parcoords.py:261: UserWarning: Tight layout not applied. The bottom and top margins cannot be made large enough to accommodate all axes decorations. \n",
      "  plt.tight_layout(h_pad=0, w_pad=0)\n"
     ]
    },
    {
     "data": {
      "image/png": "[encoded data removed]",
      "text/plain": [
       "<Figure size 1000x200 with 2 Axes>"
      ]
     },
     "metadata": {},
     "output_type": "display_data"
    }
   ],
   "source": [
    "from ema_workbench.analysis import parcoords\n",
    "import matplotlib.lines as mlines\n",
    "\n",
    "limits = parcoords.get_limits(data_policies)\n",
    "# limits.loc[0, :] = 0\n",
    "# limits.loc[1, :] = 1\n",
    "\n",
    "paraxes = parcoords.ParallelAxes(limits)\n",
    "paraxes.plot(data_policies)\n",
    "\n",
    "policy_names = ['Policy 1', 'Policy 2', 'Policy 3', 'Policy 4']\n",
    "\n",
    "for i, (name, color) in enumerate(zip(policy_names ,sns.color_palette())):\n",
    "    paraxes.plot(data_policies.iloc[i].to_frame().T, color=color, label=name)\n",
    "\n",
    "# we invert this axis so direction of desirability is the same  \n",
    "paraxes.legend()\n",
    "plt.savefig('../images/parcoord_robustness.png', dpi=300, bbox_inches = \"tight\")\n",
    "plt.show()"
   ]
  },
  {
   "cell_type": "code",
   "execution_count": 23,
   "metadata": {},
   "outputs": [
    {
     "data": {
      "text/html": [
       "<div>\n",
       "<style scoped>\n",
       "    .dataframe tbody tr th:only-of-type {\n",
       "        vertical-align: middle;\n",
       "    }\n",
       "\n",
       "    .dataframe tbody tr th {\n",
       "        vertical-align: top;\n",
       "    }\n",
       "\n",
       "    .dataframe thead th {\n",
       "        text-align: right;\n",
       "    }\n",
       "</style>\n",
       "<table border=\"1\" class=\"dataframe\">\n",
       "  <thead>\n",
       "    <tr style=\"text-align: right;\">\n",
       "      <th></th>\n",
       "      <th>Expected Annual Damage</th>\n",
       "      <th>Dike Investment Costs</th>\n",
       "      <th>RfR Investment Costs</th>\n",
       "      <th>Evacuation Costs</th>\n",
       "      <th>Expected Number of Deaths</th>\n",
       "    </tr>\n",
       "  </thead>\n",
       "  <tbody>\n",
       "    <tr>\n",
       "      <th>count</th>\n",
       "      <td>5.000000e+02</td>\n",
       "      <td>5.000000e+02</td>\n",
       "      <td>5.000000e+02</td>\n",
       "      <td>500.000000</td>\n",
       "      <td>500.000000</td>\n",
       "    </tr>\n",
       "    <tr>\n",
       "      <th>mean</th>\n",
       "      <td>3.342249e+07</td>\n",
       "      <td>1.300070e+08</td>\n",
       "      <td>1.060500e+09</td>\n",
       "      <td>1686.873825</td>\n",
       "      <td>0.002661</td>\n",
       "    </tr>\n",
       "    <tr>\n",
       "      <th>std</th>\n",
       "      <td>1.705510e+08</td>\n",
       "      <td>1.491608e-08</td>\n",
       "      <td>0.000000e+00</td>\n",
       "      <td>3490.984454</td>\n",
       "      <td>0.014551</td>\n",
       "    </tr>\n",
       "    <tr>\n",
       "      <th>min</th>\n",
       "      <td>0.000000e+00</td>\n",
       "      <td>1.300070e+08</td>\n",
       "      <td>1.060500e+09</td>\n",
       "      <td>0.000000</td>\n",
       "      <td>0.000000</td>\n",
       "    </tr>\n",
       "    <tr>\n",
       "      <th>25%</th>\n",
       "      <td>1.548206e+06</td>\n",
       "      <td>1.300070e+08</td>\n",
       "      <td>1.060500e+09</td>\n",
       "      <td>120.511279</td>\n",
       "      <td>0.000111</td>\n",
       "    </tr>\n",
       "    <tr>\n",
       "      <th>50%</th>\n",
       "      <td>6.783201e+06</td>\n",
       "      <td>1.300070e+08</td>\n",
       "      <td>1.060500e+09</td>\n",
       "      <td>564.471280</td>\n",
       "      <td>0.000465</td>\n",
       "    </tr>\n",
       "    <tr>\n",
       "      <th>75%</th>\n",
       "      <td>2.857263e+07</td>\n",
       "      <td>1.300070e+08</td>\n",
       "      <td>1.060500e+09</td>\n",
       "      <td>1864.936206</td>\n",
       "      <td>0.002000</td>\n",
       "    </tr>\n",
       "    <tr>\n",
       "      <th>max</th>\n",
       "      <td>2.685754e+09</td>\n",
       "      <td>1.300070e+08</td>\n",
       "      <td>1.060500e+09</td>\n",
       "      <td>42995.528439</td>\n",
       "      <td>0.202109</td>\n",
       "    </tr>\n",
       "  </tbody>\n",
       "</table>\n",
       "</div>"
      ],
      "text/plain": [
       "       Expected Annual Damage  Dike Investment Costs  RfR Investment Costs  \\\n",
       "count            5.000000e+02           5.000000e+02          5.000000e+02   \n",
       "mean             3.342249e+07           1.300070e+08          1.060500e+09   \n",
       "std              1.705510e+08           1.491608e-08          0.000000e+00   \n",
       "min              0.000000e+00           1.300070e+08          1.060500e+09   \n",
       "25%              1.548206e+06           1.300070e+08          1.060500e+09   \n",
       "50%              6.783201e+06           1.300070e+08          1.060500e+09   \n",
       "75%              2.857263e+07           1.300070e+08          1.060500e+09   \n",
       "max              2.685754e+09           1.300070e+08          1.060500e+09   \n",
       "\n",
       "       Evacuation Costs  Expected Number of Deaths  \n",
       "count        500.000000                 500.000000  \n",
       "mean        1686.873825                   0.002661  \n",
       "std         3490.984454                   0.014551  \n",
       "min            0.000000                   0.000000  \n",
       "25%          120.511279                   0.000111  \n",
       "50%          564.471280                   0.000465  \n",
       "75%         1864.936206                   0.002000  \n",
       "max        42995.528439                   0.202109  "
      ]
     },
     "execution_count": 23,
     "metadata": {},
     "output_type": "execute_result"
    }
   ],
   "source": [
    "outcomes_reev_df_policy  = outcomes_reev_df[outcomes_reev_df.policy == 'scenario 3 policy 0']\n",
    "outcomes_reev_df_policy.describe()"
   ]
  },
  {
   "cell_type": "code",
   "execution_count": null,
   "metadata": {},
   "outputs": [],
   "source": [
    "experiments_reev.iloc[:,19:-1].drop_duplicates('policy').to_csv('../results/all_policies.csv')"
   ]
  },
  {
   "cell_type": "code",
   "execution_count": null,
   "metadata": {},
   "outputs": [],
   "source": [
    "overall_regret = {}\n",
    "max_regret = {}\n",
    "for outcome in dike_model.outcomes:\n",
    "    policy_column = experiments_reev['policy']\n",
    "    \n",
    "    # create a DataFrame with all the relevent information\n",
    "    # i.e., policy, scenario_id, and scores\n",
    "    data_regret = pd.DataFrame({outcome.name: outcomes_reev[outcome.name], \n",
    "                         \"policy\":experiments_reev['policy'],\n",
    "                         \"scenario\":experiments_reev['scenario']})\n",
    "    \n",
    "    # reorient the data by indexing with policy and scenario id\n",
    "    data_regret = data_regret.pivot(index='scenario', columns='policy')\n",
    "    \n",
    "    # flatten the resulting hierarchical index resulting from \n",
    "    # pivoting, (might be a nicer solution possible)\n",
    "    data_regret.columns = data_regret.columns.get_level_values(1)\n",
    "    \n",
    "    # we need to control the broadcasting. \n",
    "    # max returns a 1d vector across scenario id. By passing\n",
    "    # np.newaxis we ensure that the shape is the same as the data\n",
    "    # next we take the absolute value\n",
    "    #\n",
    "    # basically we take the difference of the maximum across \n",
    "    # the row and the actual values in the row\n",
    "    #\n",
    "    outcome_regret = (data_regret.min(axis=1)[:, np.newaxis] - data_regret).abs()\n",
    "    \n",
    "    overall_regret[outcome.name] = outcome_regret\n",
    "    max_regret[outcome.name] = outcome_regret.max()\n",
    "    "
   ]
  },
  {
   "cell_type": "code",
   "execution_count": null,
   "metadata": {},
   "outputs": [],
   "source": [
    "max_regret"
   ]
  },
  {
   "cell_type": "code",
   "execution_count": null,
   "metadata": {},
   "outputs": [],
   "source": [
    "max_regret = pd.DataFrame(max_regret)\n",
    "\n",
    "fig, ax = plt.subplots(figsize=(10,20))\n",
    "sns.heatmap(max_regret/max_regret.max(), cmap='viridis', annot=False, ax=ax)\n",
    "plt.savefig('../images/policy_heatmap.png')\n",
    "plt.show()"
   ]
  },
  {
   "cell_type": "code",
   "execution_count": null,
   "metadata": {},
   "outputs": [],
   "source": [
    "colors = sns.color_palette()\n",
    "\n",
    "data_regret = max_regret\n",
    "\n",
    "limits = parcoords.get_limits(data_regret)\n",
    "#limits.loc[0, ['utility', 'inertia', 'reliability', 'max_P']] = 0\n",
    "\n",
    "paraxes = parcoords.ParallelAxes(limits)\n",
    "paraxes.plot(data_regret)\n",
    "plt.show()"
   ]
  },
  {
   "cell_type": "code",
   "execution_count": null,
   "metadata": {},
   "outputs": [],
   "source": [
    "regret_death = max_regret.sort_values(by=['Expected Number of Deaths']).head()\n",
    "regret_death"
   ]
  },
  {
   "cell_type": "code",
   "execution_count": null,
   "metadata": {},
   "outputs": [],
   "source": [
    "regret_evac = max_regret.sort_values(by=['Evacuation Costs']).head()\n",
    "# regret_evac = regret_damage.sort_values(by=['Expected Number of Deaths']).head()\n",
    "regret_evac"
   ]
  },
  {
   "cell_type": "code",
   "execution_count": null,
   "metadata": {},
   "outputs": [],
   "source": [
    "regret_damage = max_regret.sort_values(by=['Expected Annual Damage']).head()\n",
    "# regret_damage = regret_damage.sort_values(by=['Expected Number of Deaths']).head()\n",
    "regret_damage"
   ]
  },
  {
   "cell_type": "code",
   "execution_count": null,
   "metadata": {},
   "outputs": [],
   "source": [
    "# regret_policies = [regret_death.index[0], regret_evac.index[0], regret_damage.index[0]]\n",
    "# regret_policies\n",
    "\n",
    "# regret_policies_df = max_regret[max_regret.index.isin(regret_policies)]\n",
    "# regret_policies_df\n",
    "\n",
    "regret_policies_df_2 = pd.concat([regret_death, regret_evac, regret_damage], axis=0)\n",
    "regret_policies_df_2 = regret_policies_df_2[~regret_policies_df_2.index.duplicated(keep='first')]\n",
    "regret_policies_df_2"
   ]
  },
  {
   "cell_type": "code",
   "execution_count": null,
   "metadata": {},
   "outputs": [],
   "source": [
    "outcomes_reev_df_pol = data_domain[data_domain.index == 'scenario 2 policy 9']\n",
    "outcomes_reev_df_pol"
   ]
  },
  {
   "cell_type": "code",
   "execution_count": null,
   "metadata": {},
   "outputs": [],
   "source": [
    "from ema_workbench.analysis import parcoords\n",
    "import matplotlib.lines as mlines\n",
    "\n",
    "limits = parcoords.get_limits(regret_policies_df_2)\n",
    "# limits.loc[0, :] = 0\n",
    "# limits.loc[1, :] = 1\n",
    "\n",
    "paraxes = parcoords.ParallelAxes(limits)\n",
    "paraxes.plot(regret_policies_df_2)\n",
    "\n",
    "for i, (name, color) in enumerate(zip(regret_policies_df_2.index ,sns.color_palette())):\n",
    "    paraxes.plot(regret_policies_df_2.iloc[i].to_frame().T, color=color, label=name)\n",
    "\n",
    "paraxes.legend()\n",
    "\n",
    "plt.show()"
   ]
  },
  {
   "cell_type": "code",
   "execution_count": null,
   "metadata": {},
   "outputs": [],
   "source": [
    "import pandas as pd\n",
    "from sklearn import preprocessing\n",
    "\n",
    "x = regret_policies_df_2.values #returns a numpy array\n",
    "min_max_scaler = preprocessing.MinMaxScaler()\n",
    "x_scaled = min_max_scaler.fit_transform(x)\n",
    "regret_policies_df_norm = pd.DataFrame(x_scaled, columns=regret_policies_df_2.columns)\n",
    "\n",
    "\n",
    "limits = parcoords.get_limits(regret_policies_df_norm)\n",
    "#limits.loc[0, ['utility', 'inertia', 'reliability', 'max_P']] = 0\n",
    "\n",
    "paraxes = parcoords.ParallelAxes(limits)\n",
    "paraxes.plot(regret_policies_df_norm)\n",
    "plt.show()"
   ]
  },
  {
   "cell_type": "code",
   "execution_count": null,
   "metadata": {},
   "outputs": [],
   "source": [
    "from collections import defaultdict\n",
    "\n",
    "policy_regret = defaultdict(dict)\n",
    "for key, value in overall_regret.items():\n",
    "    for policy in value:\n",
    "        policy_regret[policy][key] = value[policy]"
   ]
  },
  {
   "cell_type": "code",
   "execution_count": null,
   "metadata": {},
   "outputs": [],
   "source": [
    "policy_regret_filtered = { key: policy_regret[key] for key in regret_policies_df.index}"
   ]
  },
  {
   "cell_type": "code",
   "execution_count": null,
   "metadata": {},
   "outputs": [],
   "source": [
    "# this generates a 2 by 2 axes grid, with a shared X and Y axis\n",
    "# accross all plots\n",
    "fig, axes = plt.subplots(ncols=2, nrows=1, figsize=(10,10), \n",
    "                         sharey=True, sharex=True)\n",
    "\n",
    "# to ensure easy iteration over the axes grid, we turn it\n",
    "# into a list. Because there are four plots, I hard coded\n",
    "# this. \n",
    "# axes = [axes[0,0], axes[1,0]]\n",
    "\n",
    "# zip allows us to zip together the list of axes and the list of \n",
    "# key value pairs return by items. If we iterate over this\n",
    "# it returns a tuple of length 2. The first item is the ax\n",
    "# the second items is the key value pair.\n",
    "for ax, (policy, regret) in zip(axes, policy_regret_filtered.items()):\n",
    "    data_regret_plt = pd.DataFrame(regret)\n",
    "\n",
    "    # we need to scale the regret to ensure fair visual\n",
    "    # comparison. We can do that by divding by the maximum regret\n",
    "    data_regret_plt = data/max_regret.max(axis=0)\n",
    "    sns.boxplot(data=data, ax=ax)\n",
    "    \n",
    "    # removes top and left hand black outline of axes\n",
    "    sns.despine()\n",
    "    \n",
    "    # ensure we know which policy the figure is for\n",
    "    ax.set_title(str(policy))\n",
    "fig.autofmt_xdate()\n",
    "plt.show()"
   ]
  },
  {
   "cell_type": "markdown",
   "metadata": {},
   "source": [
    "## select some policies from second metric and make boxplots"
   ]
  },
  {
   "cell_type": "code",
   "execution_count": null,
   "metadata": {},
   "outputs": [],
   "source": [
    "\n",
    "def regret()\n",
    "for outcome in dike_model.outcomes:\n",
    "    policy_column = experiments_reev['policy']\n",
    "    \n",
    "    # create a DataFrame with all the relevent information\n",
    "    # i.e., policy, scenario_id, and scores\n",
    "    data_regret = pd.DataFrame({outcome.name: outcomes_reev[outcome.name], \n",
    "                         \"policy\":experiments_reev['policy'],\n",
    "                         \"scenario\":experiments_reev['scenario']})\n",
    "    \n",
    "    # reorient the data by indexing with policy and scenario id\n",
    "    data_regret = data_regret.pivot(index='scenario', columns='policy')\n",
    "    \n",
    "    # flatten the resulting hierarchical index resulting from \n",
    "    # pivoting, (might be a nicer solution possible)\n",
    "    data_regret.columns = data_regret.columns.get_level_values(1)\n",
    "    \n",
    "    # we need to control the broadcasting. \n",
    "    # max returns a 1d vector across scenario id. By passing\n",
    "    # np.newaxis we ensure that the shape is the same as the data\n",
    "    # next we take the absolute value\n",
    "    #\n",
    "    # basically we take the difference of the maximum across \n",
    "    # the row and the actual values in the row\n",
    "    #\n",
    "    outcome_regret = (data_regret.min(axis=1)[:, np.newaxis] - data_regret).abs()\n",
    "    \n",
    "    overall_regret[outcome.name] = outcome_regret\n",
    "    max_regret[outcome.name] = outcome_regret.max()"
   ]
  },
  {
   "cell_type": "code",
   "execution_count": null,
   "metadata": {
    "tags": []
   },
   "outputs": [],
   "source": [
    "total_scores = {}\n",
    "for policy in experiments_reev.policy.unique():\n",
    "    scores = {}\n",
    "    logical = experiments_reev['policy'] == policy\n",
    "    \n",
    "    temp_outcomes = {k:v[logical] for k,v in outcomes_reev.items()}\n",
    "    print(temp_outcomes)\n",
    "    for k, v in temp_outcomes.items():\n",
    "        score = funcs[k](v)\n",
    "        scores[k] = score\n",
    "    total_scores[policy] = scores"
   ]
  },
  {
   "cell_type": "code",
   "execution_count": null,
   "metadata": {},
   "outputs": [],
   "source": [
    "import functools\n",
    "\n",
    "def robustness(direction, threshold, data):\n",
    "    if direction == 'SMALLER':\n",
    "        return np.sum(data<=threshold)/data.shape[0]\n",
    "    else:\n",
    "        return np.sum(data>=threshold)/data.shape[0]\n",
    "\n",
    "def costs(data):\n",
    "    return data[0]/1e3 # makes numbers nicer CAREFUL WITH UNITS\n",
    "    \n",
    "SMALLER = 'SMALLER'\n",
    "\n",
    "\n",
    "max_num_deaths = 0.0001 * 3 * 5\n",
    "max_rfr_costs = 1.1e9\n",
    "max_dike_costs = 3.04e8\n",
    "\n",
    "Expected_Annual_Damage = costs\n",
    "Dike_Investment_Costs = functools.partial(robustness, SMALLER, max_dike_costs)\n",
    "Expected_Number_of_Deaths = functools.partial(robustness, SMALLER, max_num_deaths)\n",
    "RfR_Investment_Costs = functools.partial(robustness, SMALLER, max_rfr_costs)\n",
    "Evacuation_Costs = costs"
   ]
  },
  {
   "cell_type": "code",
   "execution_count": null,
   "metadata": {},
   "outputs": [],
   "source": [
    "from ema_workbench.analysis import parcoords\n",
    "import matplotlib.lines as mlines\n",
    "\n",
    "\n",
    "funcs = {'Expected Annual Damage': Expected_Annual_Damage,\n",
    "         'Dike Investment Costs': Dike_Investment_Costs,\n",
    "         'Expected Number of Deaths':Expected_Number_of_Deaths,\n",
    "         'RfR Investment Costs':RfR_Investment_Costs,       \n",
    "         'Evacuation Costs': Evacuation_Costs}\n",
    "\n",
    "total_scores = {}\n",
    "for policy in experiments_reev.policy.unique():\n",
    "    scores = {}\n",
    "    logical = experiments_reev['policy'] == policy\n",
    "    \n",
    "    temp_outcomes = {k:v[logical] for k,v in outcomes_reev.items()}\n",
    "    \n",
    "    for k, v in temp_outcomes.items():\n",
    "        score = funcs[k](v)\n",
    "        scores[k] = score\n",
    "    total_scores[policy] = scores\n",
    "\n",
    "data_domain = pd.DataFrame(total_scores).T#.reset_index(drop=True)\n",
    "limits = parcoords.get_limits(data_domain)\n",
    "# limits.loc[0, :] = 0\n",
    "# limits.loc[1, :] = 1\n",
    "\n",
    "\n",
    "paraxes = parcoords.ParallelAxes(limits)\n",
    "paraxes.plot(data_domain)\n",
    "plt.legend()\n",
    "plt.show()"
   ]
  },
  {
   "cell_type": "code",
   "execution_count": null,
   "metadata": {},
   "outputs": [],
   "source": []
  },
  {
   "cell_type": "code",
   "execution_count": null,
   "metadata": {},
   "outputs": [],
   "source": []
  },
  {
   "cell_type": "code",
   "execution_count": null,
   "metadata": {},
   "outputs": [],
   "source": []
  },
  {
   "cell_type": "markdown",
   "metadata": {},
   "source": [
    "# End of document"
   ]
  }
 ],
 "metadata": {
  "kernelspec": {
   "display_name": "Python 3",
   "language": "python",
   "name": "python3"
  },
  "language_info": {
   "codemirror_mode": {
    "name": "ipython",
    "version": 3
   },
   "file_extension": ".py",
   "mimetype": "text/x-python",
   "name": "python",
   "nbconvert_exporter": "python",
   "pygments_lexer": "ipython3",
   "version": "3.7.10"
  }
 },
 "nbformat": 4,
 "nbformat_minor": 4
}
