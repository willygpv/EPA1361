{
 "cells": [
  {
   "cell_type": "markdown",
   "metadata": {},
   "source": [
    "# 1.MORDM OPTIMIZATION"
   ]
  },
  {
   "cell_type": "markdown",
   "metadata": {},
   "source": [
    "# 1.1 Generate random policies"
   ]
  },
  {
   "cell_type": "code",
   "execution_count": 1,
   "metadata": {},
   "outputs": [],
   "source": [
    "import pandas as pd\n",
    "import numpy as np\n",
    "\n",
    "from ema_workbench import load_results\n",
    "from ema_workbench import Scenario\n",
    "\n",
    "from ema_workbench import (Model, MultiprocessingEvaluator, Policy, Scenario)\n",
    "from ema_workbench.em_framework.evaluators import perform_experiments\n",
    "from ema_workbench.em_framework.samplers import sample_uncertainties\n",
    "from ema_workbench.util import ema_logging\n",
    "import time\n",
    "from problem_formulation import get_model_for_problem_formulation\n",
    "from ema_workbench.em_framework.optimization import (HyperVolume, EpsilonProgress)\n",
    "from ema_workbench import Constraint\n",
    "from ema_workbench import (Model, CategoricalParameter,\n",
    "                           ScalarOutcome, IntegerParameter, RealParameter)"
   ]
  },
  {
   "cell_type": "code",
   "execution_count": 17,
   "metadata": {},
   "outputs": [
    {
     "data": {
      "text/plain": [
       "<Logger EMA (DEBUG)>"
      ]
     },
     "execution_count": 17,
     "metadata": {},
     "output_type": "execute_result"
    }
   ],
   "source": [
    "from ema_workbench import (Model, MultiprocessingEvaluator, Policy, Scenario)\n",
    "\n",
    "from ema_workbench.em_framework.evaluators import perform_experiments\n",
    "from ema_workbench.em_framework.samplers import sample_uncertainties\n",
    "from ema_workbench.util import ema_logging\n",
    "from ema_workbench.analysis import parcoords\n",
    "\n",
    "import seaborn as sns\n",
    "import matplotlib.pyplot as plt\n",
    "\n",
    "\n",
    "ema_logging.log_to_stderr(ema_logging.INFO)"
   ]
  },
  {
   "cell_type": "markdown",
   "metadata": {},
   "source": [
    "Re-evaluation"
   ]
  },
  {
   "cell_type": "code",
   "execution_count": 3,
   "metadata": {},
   "outputs": [],
   "source": [
    "# from ema_workbench import Policy\n",
    "\n",
    "# policies = []\n",
    "# for i, result in enumerate(results_deep):\n",
    "#     outcomes_of_interest = result.iloc[:, :-3]\n",
    "#     for j, row in outcomes_of_interest.iterrows():\n",
    "#         policy = Policy(f'scenario {i} policy {j}', **row.to_dict())\n",
    "#         policies.append(policy)"
   ]
  },
  {
   "cell_type": "code",
   "execution_count": 4,
   "metadata": {},
   "outputs": [],
   "source": [
    "from problem_formulation import get_model_for_problem_formulation\n",
    "\n",
    "# We use the original problem formulation to account for the RfR policies\n",
    "dike_model, planning_steps = get_model_for_problem_formulation(2)"
   ]
  },
  {
   "cell_type": "code",
   "execution_count": 5,
   "metadata": {},
   "outputs": [
    {
     "data": {
      "text/plain": [
       "<Logger EMA (DEBUG)>"
      ]
     },
     "execution_count": 5,
     "metadata": {},
     "output_type": "execute_result"
    }
   ],
   "source": [
    "ema_logging.log_to_stderr(ema_logging.INFO)\n",
    "\n",
    "# with MultiprocessingEvaluator(dike_model) as evaluator:\n",
    "#     reeevaluation_results = evaluator.perform_experiments(500, policies=policies)\n",
    "    \n",
    "# experiments_reev, outcomes_reev = reeevaluation_results"
   ]
  },
  {
   "cell_type": "code",
   "execution_count": 6,
   "metadata": {},
   "outputs": [
    {
     "name": "stderr",
     "output_type": "stream",
     "text": [
      "[MainProcess/INFO] results loaded succesfully from D:\\Willy\\Documents\\GitHub\\Model_based_decision_making\\EPA1361\\final assignment\\results\\mordm_exp_2_1000.tar.gz\n"
     ]
    }
   ],
   "source": [
    "# from ema_workbench import save_results\n",
    "# save_results((experiments_reev, outcomes_reev), f'../results/mordm_exp_2_1000.tar.gz')\n",
    "\n",
    "experiments_reev, outcomes_reev = load_results('../results/mordm_exp_2_1000.tar.gz') \n",
    "outcomes_reev_df = pd.DataFrame.from_dict(outcomes_reev)"
   ]
  },
  {
   "cell_type": "markdown",
   "metadata": {},
   "source": [
    "Comparing both cells below we can see how we have 66 unique policies."
   ]
  },
  {
   "cell_type": "code",
   "execution_count": 7,
   "metadata": {},
   "outputs": [
    {
     "data": {
      "text/plain": [
       "True     20958\n",
       "False       42\n",
       "dtype: int64"
      ]
     },
     "execution_count": 7,
     "metadata": {},
     "output_type": "execute_result"
    }
   ],
   "source": [
    "experiments_reev.iloc[:,19:-3].duplicated().value_counts()"
   ]
  },
  {
   "cell_type": "code",
   "execution_count": 8,
   "metadata": {},
   "outputs": [
    {
     "data": {
      "text/plain": [
       "42"
      ]
     },
     "execution_count": 8,
     "metadata": {},
     "output_type": "execute_result"
    }
   ],
   "source": [
    "experiments_reev['policy'].nunique()"
   ]
  },
  {
   "cell_type": "markdown",
   "metadata": {},
   "source": [
    "We now only chose the policies that keep the number of deaths under the threshold in ALL scenarios"
   ]
  },
  {
   "cell_type": "code",
   "execution_count": null,
   "metadata": {},
   "outputs": [],
   "source": []
  },
  {
   "cell_type": "code",
   "execution_count": 9,
   "metadata": {},
   "outputs": [
    {
     "data": {
      "text/html": [
       "<div>\n",
       "<style scoped>\n",
       "    .dataframe tbody tr th:only-of-type {\n",
       "        vertical-align: middle;\n",
       "    }\n",
       "\n",
       "    .dataframe tbody tr th {\n",
       "        vertical-align: top;\n",
       "    }\n",
       "\n",
       "    .dataframe thead th {\n",
       "        text-align: right;\n",
       "    }\n",
       "</style>\n",
       "<table border=\"1\" class=\"dataframe\">\n",
       "  <thead>\n",
       "    <tr style=\"text-align: right;\">\n",
       "      <th></th>\n",
       "      <th>Expected Annual Damage</th>\n",
       "      <th>Dike Investment Costs</th>\n",
       "      <th>RfR Investment Costs</th>\n",
       "      <th>Evacuation Costs</th>\n",
       "      <th>Expected Number of Deaths</th>\n",
       "    </tr>\n",
       "  </thead>\n",
       "  <tbody>\n",
       "    <tr>\n",
       "      <th>count</th>\n",
       "      <td>2.100000e+04</td>\n",
       "      <td>2.100000e+04</td>\n",
       "      <td>2.100000e+04</td>\n",
       "      <td>21000.000000</td>\n",
       "      <td>21000.000000</td>\n",
       "    </tr>\n",
       "    <tr>\n",
       "      <th>mean</th>\n",
       "      <td>9.174717e+07</td>\n",
       "      <td>9.998493e+07</td>\n",
       "      <td>1.751971e+09</td>\n",
       "      <td>3407.984925</td>\n",
       "      <td>0.009067</td>\n",
       "    </tr>\n",
       "    <tr>\n",
       "      <th>std</th>\n",
       "      <td>3.406452e+08</td>\n",
       "      <td>2.086492e+07</td>\n",
       "      <td>2.994190e+08</td>\n",
       "      <td>7980.440903</td>\n",
       "      <td>0.030620</td>\n",
       "    </tr>\n",
       "    <tr>\n",
       "      <th>min</th>\n",
       "      <td>0.000000e+00</td>\n",
       "      <td>6.087036e+07</td>\n",
       "      <td>9.759000e+08</td>\n",
       "      <td>0.000000</td>\n",
       "      <td>0.000000</td>\n",
       "    </tr>\n",
       "    <tr>\n",
       "      <th>25%</th>\n",
       "      <td>1.544874e+06</td>\n",
       "      <td>8.173593e+07</td>\n",
       "      <td>1.572700e+09</td>\n",
       "      <td>112.189787</td>\n",
       "      <td>0.000105</td>\n",
       "    </tr>\n",
       "    <tr>\n",
       "      <th>50%</th>\n",
       "      <td>1.299621e+07</td>\n",
       "      <td>1.017962e+08</td>\n",
       "      <td>1.828800e+09</td>\n",
       "      <td>831.723645</td>\n",
       "      <td>0.001412</td>\n",
       "    </tr>\n",
       "    <tr>\n",
       "      <th>75%</th>\n",
       "      <td>4.840653e+07</td>\n",
       "      <td>1.158001e+08</td>\n",
       "      <td>2.015900e+09</td>\n",
       "      <td>2762.519602</td>\n",
       "      <td>0.005346</td>\n",
       "    </tr>\n",
       "    <tr>\n",
       "      <th>max</th>\n",
       "      <td>3.043916e+09</td>\n",
       "      <td>1.380248e+08</td>\n",
       "      <td>2.131200e+09</td>\n",
       "      <td>117778.445391</td>\n",
       "      <td>0.464258</td>\n",
       "    </tr>\n",
       "  </tbody>\n",
       "</table>\n",
       "</div>"
      ],
      "text/plain": [
       "       Expected Annual Damage  Dike Investment Costs  RfR Investment Costs  \\\n",
       "count            2.100000e+04           2.100000e+04          2.100000e+04   \n",
       "mean             9.174717e+07           9.998493e+07          1.751971e+09   \n",
       "std              3.406452e+08           2.086492e+07          2.994190e+08   \n",
       "min              0.000000e+00           6.087036e+07          9.759000e+08   \n",
       "25%              1.544874e+06           8.173593e+07          1.572700e+09   \n",
       "50%              1.299621e+07           1.017962e+08          1.828800e+09   \n",
       "75%              4.840653e+07           1.158001e+08          2.015900e+09   \n",
       "max              3.043916e+09           1.380248e+08          2.131200e+09   \n",
       "\n",
       "       Evacuation Costs  Expected Number of Deaths  \n",
       "count      21000.000000               21000.000000  \n",
       "mean        3407.984925                   0.009067  \n",
       "std         7980.440903                   0.030620  \n",
       "min            0.000000                   0.000000  \n",
       "25%          112.189787                   0.000105  \n",
       "50%          831.723645                   0.001412  \n",
       "75%         2762.519602                   0.005346  \n",
       "max       117778.445391                   0.464258  "
      ]
     },
     "execution_count": 9,
     "metadata": {},
     "output_type": "execute_result"
    }
   ],
   "source": [
    "outcomes_reev_df.describe()"
   ]
  },
  {
   "cell_type": "code",
   "execution_count": null,
   "metadata": {},
   "outputs": [],
   "source": []
  },
  {
   "cell_type": "code",
   "execution_count": 10,
   "metadata": {},
   "outputs": [
    {
     "data": {
      "text/plain": [
       "[]"
      ]
     },
     "execution_count": 10,
     "metadata": {},
     "output_type": "execute_result"
    }
   ],
   "source": [
    "outcomes_reev_df['policy']= experiments_reev['policy']\n",
    "policy_names = outcomes_reev_df.policy.unique()\n",
    "\n",
    "policies_of_interest = []\n",
    "for policy in policy_names:\n",
    "    policy_df = outcomes_reev_df[outcomes_reev_df['policy'] == policy]\n",
    "    policy_df_logical = policy_df['Expected Number of Deaths'] > (0.0001*3*5)\n",
    "    type(policy_df_logical)\n",
    "    if policy_df_logical.any():\n",
    "        continue\n",
    "    else:\n",
    "        policies_of_interest.append(policy)\n",
    "\n",
    "policies_of_interest"
   ]
  },
  {
   "cell_type": "markdown",
   "metadata": {},
   "source": [
    "We can see that there is no policy that obeys the threshold under all scenarios. We therefore calculate the robustness using the thresholds......."
   ]
  },
  {
   "cell_type": "code",
   "execution_count": 11,
   "metadata": {},
   "outputs": [
    {
     "data": {
      "text/html": [
       "<div>\n",
       "<style scoped>\n",
       "    .dataframe tbody tr th:only-of-type {\n",
       "        vertical-align: middle;\n",
       "    }\n",
       "\n",
       "    .dataframe tbody tr th {\n",
       "        vertical-align: top;\n",
       "    }\n",
       "\n",
       "    .dataframe thead th {\n",
       "        text-align: right;\n",
       "    }\n",
       "</style>\n",
       "<table border=\"1\" class=\"dataframe\">\n",
       "  <thead>\n",
       "    <tr style=\"text-align: right;\">\n",
       "      <th></th>\n",
       "      <th>Expected Annual Damage</th>\n",
       "      <th>Dike Investment Costs</th>\n",
       "      <th>RfR Investment Costs</th>\n",
       "      <th>Evacuation Costs</th>\n",
       "      <th>Expected Number of Deaths</th>\n",
       "      <th>policy</th>\n",
       "    </tr>\n",
       "  </thead>\n",
       "  <tbody>\n",
       "    <tr>\n",
       "      <th>0</th>\n",
       "      <td>2.783543e+06</td>\n",
       "      <td>1.158001e+08</td>\n",
       "      <td>1.572700e+09</td>\n",
       "      <td>179.850459</td>\n",
       "      <td>0.000142</td>\n",
       "      <td>scenario 0 policy 0</td>\n",
       "    </tr>\n",
       "    <tr>\n",
       "      <th>1</th>\n",
       "      <td>0.000000e+00</td>\n",
       "      <td>1.158001e+08</td>\n",
       "      <td>1.572700e+09</td>\n",
       "      <td>0.000000</td>\n",
       "      <td>0.000000</td>\n",
       "      <td>scenario 0 policy 0</td>\n",
       "    </tr>\n",
       "    <tr>\n",
       "      <th>2</th>\n",
       "      <td>0.000000e+00</td>\n",
       "      <td>1.158001e+08</td>\n",
       "      <td>1.572700e+09</td>\n",
       "      <td>0.000000</td>\n",
       "      <td>0.000000</td>\n",
       "      <td>scenario 0 policy 0</td>\n",
       "    </tr>\n",
       "    <tr>\n",
       "      <th>3</th>\n",
       "      <td>9.324408e+04</td>\n",
       "      <td>1.158001e+08</td>\n",
       "      <td>1.572700e+09</td>\n",
       "      <td>6.036863</td>\n",
       "      <td>0.000006</td>\n",
       "      <td>scenario 0 policy 0</td>\n",
       "    </tr>\n",
       "    <tr>\n",
       "      <th>5</th>\n",
       "      <td>2.700068e+06</td>\n",
       "      <td>1.158001e+08</td>\n",
       "      <td>1.572700e+09</td>\n",
       "      <td>178.331037</td>\n",
       "      <td>0.000139</td>\n",
       "      <td>scenario 0 policy 0</td>\n",
       "    </tr>\n",
       "    <tr>\n",
       "      <th>...</th>\n",
       "      <td>...</td>\n",
       "      <td>...</td>\n",
       "      <td>...</td>\n",
       "      <td>...</td>\n",
       "      <td>...</td>\n",
       "      <td>...</td>\n",
       "    </tr>\n",
       "    <tr>\n",
       "      <th>20988</th>\n",
       "      <td>1.014472e+07</td>\n",
       "      <td>6.087036e+07</td>\n",
       "      <td>1.828800e+09</td>\n",
       "      <td>545.680922</td>\n",
       "      <td>0.001139</td>\n",
       "      <td>scenario 4 policy 7</td>\n",
       "    </tr>\n",
       "    <tr>\n",
       "      <th>20989</th>\n",
       "      <td>9.778430e+06</td>\n",
       "      <td>6.087036e+07</td>\n",
       "      <td>1.828800e+09</td>\n",
       "      <td>645.111252</td>\n",
       "      <td>0.000651</td>\n",
       "      <td>scenario 4 policy 7</td>\n",
       "    </tr>\n",
       "    <tr>\n",
       "      <th>20993</th>\n",
       "      <td>8.841605e+06</td>\n",
       "      <td>6.087036e+07</td>\n",
       "      <td>1.828800e+09</td>\n",
       "      <td>540.934409</td>\n",
       "      <td>0.001111</td>\n",
       "      <td>scenario 4 policy 7</td>\n",
       "    </tr>\n",
       "    <tr>\n",
       "      <th>20995</th>\n",
       "      <td>4.810262e+06</td>\n",
       "      <td>6.087036e+07</td>\n",
       "      <td>1.828800e+09</td>\n",
       "      <td>254.312887</td>\n",
       "      <td>0.000532</td>\n",
       "      <td>scenario 4 policy 7</td>\n",
       "    </tr>\n",
       "    <tr>\n",
       "      <th>20997</th>\n",
       "      <td>0.000000e+00</td>\n",
       "      <td>6.087036e+07</td>\n",
       "      <td>1.828800e+09</td>\n",
       "      <td>0.000000</td>\n",
       "      <td>0.000000</td>\n",
       "      <td>scenario 4 policy 7</td>\n",
       "    </tr>\n",
       "  </tbody>\n",
       "</table>\n",
       "<p>10610 rows × 6 columns</p>\n",
       "</div>"
      ],
      "text/plain": [
       "       Expected Annual Damage  Dike Investment Costs  RfR Investment Costs  \\\n",
       "0                2.783543e+06           1.158001e+08          1.572700e+09   \n",
       "1                0.000000e+00           1.158001e+08          1.572700e+09   \n",
       "2                0.000000e+00           1.158001e+08          1.572700e+09   \n",
       "3                9.324408e+04           1.158001e+08          1.572700e+09   \n",
       "5                2.700068e+06           1.158001e+08          1.572700e+09   \n",
       "...                       ...                    ...                   ...   \n",
       "20988            1.014472e+07           6.087036e+07          1.828800e+09   \n",
       "20989            9.778430e+06           6.087036e+07          1.828800e+09   \n",
       "20993            8.841605e+06           6.087036e+07          1.828800e+09   \n",
       "20995            4.810262e+06           6.087036e+07          1.828800e+09   \n",
       "20997            0.000000e+00           6.087036e+07          1.828800e+09   \n",
       "\n",
       "       Evacuation Costs  Expected Number of Deaths               policy  \n",
       "0            179.850459                   0.000142  scenario 0 policy 0  \n",
       "1              0.000000                   0.000000  scenario 0 policy 0  \n",
       "2              0.000000                   0.000000  scenario 0 policy 0  \n",
       "3              6.036863                   0.000006  scenario 0 policy 0  \n",
       "5            178.331037                   0.000139  scenario 0 policy 0  \n",
       "...                 ...                        ...                  ...  \n",
       "20988        545.680922                   0.001139  scenario 4 policy 7  \n",
       "20989        645.111252                   0.000651  scenario 4 policy 7  \n",
       "20993        540.934409                   0.001111  scenario 4 policy 7  \n",
       "20995        254.312887                   0.000532  scenario 4 policy 7  \n",
       "20997          0.000000                   0.000000  scenario 4 policy 7  \n",
       "\n",
       "[10610 rows x 6 columns]"
      ]
     },
     "execution_count": 11,
     "metadata": {},
     "output_type": "execute_result"
    }
   ],
   "source": [
    "outcomes_reev_df_death= outcomes_reev_df[outcomes_reev_df['Expected Number of Deaths']<=(0.0001*3*5)]\n",
    "outcomes_reev_df_death"
   ]
  },
  {
   "cell_type": "code",
   "execution_count": 12,
   "metadata": {
    "tags": []
   },
   "outputs": [],
   "source": [
    "#Por ahora probamos sin evacuation costs y damage, que no estan especificados\n",
    "\n",
    "max_deaths = 0.0001\n",
    "max_rfr_costs = 1.1e9\n",
    "max_dike_costs = 3.04e8\n",
    "\n",
    "thresholds = {'Dike Investment Costs':max_dike_costs, 'RfR Investment Costs':max_rfr_costs, 'Expected Number of Deaths':max_deaths}\n",
    "\n",
    "overall_scores = {}\n",
    "for policy in experiments_reev.policy.unique():\n",
    "    logical = experiments_reev.policy == policy\n",
    "    scores = {}\n",
    "    for k, v in outcomes_reev.items():\n",
    "        try:\n",
    "            n = np.sum(v[logical]<=thresholds[k])\n",
    "        except KeyError:\n",
    "            continue\n",
    "        scores[k] = n/1000 \n",
    "    overall_scores[policy] = scores\n",
    "        \n",
    "overall_scores = pd.DataFrame(overall_scores).T"
   ]
  },
  {
   "cell_type": "code",
   "execution_count": 13,
   "metadata": {},
   "outputs": [],
   "source": [
    "#overall_scores_filtered = overall_scores[(overall_scores['Expected Number of Deaths'] >= 0.990) & (overall_scores['RfR Investment Costs'] == 0.0)]"
   ]
  },
  {
   "cell_type": "code",
   "execution_count": 18,
   "metadata": {},
   "outputs": [
    {
     "data": {
      "image/png": "[encoded data removed]",
      "text/plain": [
       "<Figure size 432x288 with 2 Axes>"
      ]
     },
     "metadata": {},
     "output_type": "display_data"
    }
   ],
   "source": [
    "limits = parcoords.get_limits(overall_scores)\n",
    "paraxes = parcoords.ParallelAxes(limits)\n",
    "paraxes.plot(overall_scores)\n",
    "plt.show()"
   ]
  },
  {
   "cell_type": "code",
   "execution_count": 19,
   "metadata": {},
   "outputs": [],
   "source": [
    "import functools\n",
    "\n",
    "def robustness(direction, threshold, data):\n",
    "    if direction == 'SMALLER':\n",
    "        return np.sum(data<=threshold)/data.shape[0]\n",
    "    else:\n",
    "        return np.sum(data>=threshold)/data.shape[0]\n",
    "\n",
    "def costs(data):\n",
    "    return data[0]/1e3 # makes numbers nicer CAREFUL WITH UNITS\n",
    "    \n",
    "SMALLER = 'SMALLER'\n",
    "\n",
    "\n",
    "max_deaths = 0.0001\n",
    "max_rfr_costs = 1.1e9\n",
    "max_dike_costs = 3.04e8\n",
    "\n",
    "Expected_Annual_Damage = costs\n",
    "Dike_Investment_Costs = functools.partial(robustness, SMALLER, max_dike_costs)\n",
    "Expected_Number_of_Deaths = functools.partial(robustness, SMALLER, max_deaths)\n",
    "RfR_Investment_Costs = functools.partial(robustness, SMALLER, max_rfr_costs)\n",
    "Evacuation_Costs = costs"
   ]
  },
  {
   "cell_type": "code",
   "execution_count": 20,
   "metadata": {},
   "outputs": [
    {
     "data": {
      "image/png": "[encoded data removed]",
      "text/plain": [
       "<Figure size 432x288 with 4 Axes>"
      ]
     },
     "metadata": {},
     "output_type": "display_data"
    }
   ],
   "source": [
    "from ema_workbench.analysis import parcoords\n",
    "\n",
    "\n",
    "funcs = {'Expected Annual Damage': Expected_Annual_Damage,\n",
    "         'Dike Investment Costs': Dike_Investment_Costs,\n",
    "         'Expected Number of Deaths':Expected_Number_of_Deaths,\n",
    "         'RfR Investment Costs':RfR_Investment_Costs,       \n",
    "         'Evacuation Costs': Evacuation_Costs}\n",
    "\n",
    "total_scores = {}\n",
    "for policy in np.unique(experiments_reev['policy']):\n",
    "    scores = {}\n",
    "    logical = experiments_reev['policy'] == policy\n",
    "    \n",
    "    temp_outcomes = {k:v[logical] for k,v in outcomes_reev.items()}\n",
    "    \n",
    "    for k, v in temp_outcomes.items():\n",
    "        score = funcs[k](v)\n",
    "        scores[k] = score\n",
    "    total_scores[policy] = scores\n",
    "\n",
    "data = pd.DataFrame(total_scores).T#.reset_index(drop=True)\n",
    "limits = parcoords.get_limits(data)\n",
    "# limits.loc[0, :] = 0\n",
    "# limits.loc[1, :] = 1\n",
    "\n",
    "paraxes = parcoords.ParallelAxes(limits)\n",
    "paraxes.plot(data)\n",
    "plt.show()"
   ]
  },
  {
   "cell_type": "code",
   "execution_count": 21,
   "metadata": {},
   "outputs": [
    {
     "data": {
      "text/html": [
       "<div>\n",
       "<style scoped>\n",
       "    .dataframe tbody tr th:only-of-type {\n",
       "        vertical-align: middle;\n",
       "    }\n",
       "\n",
       "    .dataframe tbody tr th {\n",
       "        vertical-align: top;\n",
       "    }\n",
       "\n",
       "    .dataframe thead th {\n",
       "        text-align: right;\n",
       "    }\n",
       "</style>\n",
       "<table border=\"1\" class=\"dataframe\">\n",
       "  <thead>\n",
       "    <tr style=\"text-align: right;\">\n",
       "      <th></th>\n",
       "      <th>Expected Annual Damage</th>\n",
       "      <th>Dike Investment Costs</th>\n",
       "      <th>RfR Investment Costs</th>\n",
       "      <th>Evacuation Costs</th>\n",
       "      <th>Expected Number of Deaths</th>\n",
       "    </tr>\n",
       "  </thead>\n",
       "  <tbody>\n",
       "    <tr>\n",
       "      <th>scenario 4 policy 0</th>\n",
       "      <td>0.000000</td>\n",
       "      <td>1.0</td>\n",
       "      <td>0.0</td>\n",
       "      <td>0.000000</td>\n",
       "      <td>0.388</td>\n",
       "    </tr>\n",
       "    <tr>\n",
       "      <th>scenario 3 policy 2</th>\n",
       "      <td>1706.663501</td>\n",
       "      <td>1.0</td>\n",
       "      <td>0.0</td>\n",
       "      <td>0.090304</td>\n",
       "      <td>0.420</td>\n",
       "    </tr>\n",
       "    <tr>\n",
       "      <th>scenario 0 policy 1</th>\n",
       "      <td>0.000000</td>\n",
       "      <td>1.0</td>\n",
       "      <td>0.0</td>\n",
       "      <td>0.000000</td>\n",
       "      <td>0.448</td>\n",
       "    </tr>\n",
       "    <tr>\n",
       "      <th>scenario 2 policy 9</th>\n",
       "      <td>5642.665950</td>\n",
       "      <td>1.0</td>\n",
       "      <td>0.0</td>\n",
       "      <td>0.315184</td>\n",
       "      <td>0.456</td>\n",
       "    </tr>\n",
       "    <tr>\n",
       "      <th>scenario 2 policy 1</th>\n",
       "      <td>5642.665950</td>\n",
       "      <td>1.0</td>\n",
       "      <td>0.0</td>\n",
       "      <td>0.253699</td>\n",
       "      <td>0.456</td>\n",
       "    </tr>\n",
       "  </tbody>\n",
       "</table>\n",
       "</div>"
      ],
      "text/plain": [
       "                     Expected Annual Damage  Dike Investment Costs  \\\n",
       "scenario 4 policy 0                0.000000                    1.0   \n",
       "scenario 3 policy 2             1706.663501                    1.0   \n",
       "scenario 0 policy 1                0.000000                    1.0   \n",
       "scenario 2 policy 9             5642.665950                    1.0   \n",
       "scenario 2 policy 1             5642.665950                    1.0   \n",
       "\n",
       "                     RfR Investment Costs  Evacuation Costs  \\\n",
       "scenario 4 policy 0                   0.0          0.000000   \n",
       "scenario 3 policy 2                   0.0          0.090304   \n",
       "scenario 0 policy 1                   0.0          0.000000   \n",
       "scenario 2 policy 9                   0.0          0.315184   \n",
       "scenario 2 policy 1                   0.0          0.253699   \n",
       "\n",
       "                     Expected Number of Deaths  \n",
       "scenario 4 policy 0                      0.388  \n",
       "scenario 3 policy 2                      0.420  \n",
       "scenario 0 policy 1                      0.448  \n",
       "scenario 2 policy 9                      0.456  \n",
       "scenario 2 policy 1                      0.456  "
      ]
     },
     "execution_count": 21,
     "metadata": {},
     "output_type": "execute_result"
    }
   ],
   "source": [
    "data_death = data.sort_values(by=['Expected Number of Deaths']).tail(5)\n",
    "data_death"
   ]
  },
  {
   "cell_type": "code",
   "execution_count": null,
   "metadata": {},
   "outputs": [],
   "source": []
  },
  {
   "cell_type": "code",
   "execution_count": null,
   "metadata": {},
   "outputs": [],
   "source": []
  },
  {
   "cell_type": "code",
   "execution_count": null,
   "metadata": {},
   "outputs": [],
   "source": [
    "outcomes_names = list(outcomes_reev.keys())\n",
    "n_policies = experiments_reev['policy'].nunique()\n",
    "n_experiments = len(experiments_reev)\n",
    "n_exp_pol = n_experiments/n_policies"
   ]
  },
  {
   "cell_type": "code",
   "execution_count": null,
   "metadata": {},
   "outputs": [],
   "source": [
    "# To calculate the regret we find the maximum value for each outcome under each policy with the same values for the uncertainties\n",
    "# Then, we calculate the regret and find the maximum regret to study which is the policy that has the lowest maximum regret\n",
    "final_regret = {}\n",
    "for outcome in outcomes_names:\n",
    "    policy_dict = {}\n",
    "\n",
    "    for i in range(1, n_policies+1):\n",
    "        # We first find the maximum value for each outcome under all policies\n",
    "        policy_row = outcomes_reev[outcome][int(n_exp_pol*(i-1)): int(n_exp_pol*i)]\n",
    "        policy_dict['policy'+f\"{i}\"] = policy_row\n",
    "    policy_df = pd.DataFrame.from_dict(policy_dict)\n",
    "    maxValuesObj = policy_df.max(axis=1)\n",
    "    regret_row = abs(policy_df.sub(maxValuesObj, axis='index'))\n",
    "    final_regret[outcome] = regret_row.max()"
   ]
  },
  {
   "cell_type": "code",
   "execution_count": null,
   "metadata": {},
   "outputs": [],
   "source": [
    "regret_df = pd.DataFrame.from_dict(final_regret)\n",
    "limits = parcoords.get_limits(regret_df)\n",
    "#limits.loc[0, ['utility', 'inertia', 'reliability', 'max_P']] = 0\n",
    "\n",
    "paraxes = parcoords.ParallelAxes(limits)\n",
    "paraxes.plot(regret_df)\n",
    "plt.show()"
   ]
  },
  {
   "cell_type": "code",
   "execution_count": null,
   "metadata": {},
   "outputs": [],
   "source": [
    "overall_regret = {}\n",
    "max_regret = {}\n",
    "for outcome in dike_model.outcomes:\n",
    "    policy_column = experiments_reev['policy']\n",
    "    \n",
    "    # create a DataFrame with all the relevent information\n",
    "    # i.e., policy, scenario_id, and scores\n",
    "    data = pd.DataFrame({outcome.name: outcomes_reev[outcome.name], \n",
    "                         \"policy\":experiments_reev['policy'],\n",
    "                         \"scenario\":experiments_reev['scenario']})\n",
    "    \n",
    "    # reorient the data by indexing with policy and scenario id\n",
    "    data = data.pivot(index='scenario', columns='policy')\n",
    "    \n",
    "    # flatten the resulting hierarchical index resulting from \n",
    "    # pivoting, (might be a nicer solution possible)\n",
    "    data.columns = data.columns.get_level_values(1)\n",
    "    \n",
    "    # we need to control the broadcasting. \n",
    "    # max returns a 1d vector across scenario id. By passing\n",
    "    # np.newaxis we ensure that the shape is the same as the data\n",
    "    # next we take the absolute value\n",
    "    #\n",
    "    # basically we take the difference of the maximum across \n",
    "    # the row and the actual values in the row\n",
    "    #\n",
    "    outcome_regret = (data.max(axis=1)[:, np.newaxis] - data).abs()\n",
    "    \n",
    "    overall_regret[outcome.name] = outcome_regret\n",
    "    max_regret[outcome.name] = outcome_regret.max()\n",
    "    "
   ]
  },
  {
   "cell_type": "code",
   "execution_count": null,
   "metadata": {},
   "outputs": [],
   "source": [
    "max_regret = pd.DataFrame(max_regret)\n",
    "\n",
    "fig, ax = plt.subplots(figsize=(10,20))\n",
    "sns.heatmap(max_regret/max_regret.max(), cmap='viridis', annot=False, ax=ax)\n",
    "plt.show()"
   ]
  },
  {
   "cell_type": "code",
   "execution_count": null,
   "metadata": {},
   "outputs": [],
   "source": [
    "colors = sns.color_palette()\n",
    "\n",
    "data = max_regret\n",
    "\n",
    "limits = parcoords.get_limits(data)\n",
    "#limits.loc[0, ['utility', 'inertia', 'reliability', 'max_P']] = 0\n",
    "\n",
    "paraxes = parcoords.ParallelAxes(limits)\n",
    "paraxes.plot(data)\n",
    "plt.show()"
   ]
  },
  {
   "cell_type": "code",
   "execution_count": null,
   "metadata": {},
   "outputs": [],
   "source": [
    "max_regret_filtered = max_regret.sort_values(by=['Expected Number of Deaths']).head(5)\n",
    "max_regret_filtered"
   ]
  },
  {
   "cell_type": "code",
   "execution_count": null,
   "metadata": {},
   "outputs": [],
   "source": [
    "limits = parcoords.get_limits(max_regret_filtered)\n",
    "#limits.loc[0, ['utility', 'inertia', 'reliability', 'max_P']] = 0\n",
    "\n",
    "paraxes = parcoords.ParallelAxes(limits)\n",
    "paraxes.plot(max_regret_filtered)\n",
    "plt.show()"
   ]
  },
  {
   "cell_type": "code",
   "execution_count": null,
   "metadata": {},
   "outputs": [],
   "source": [
    "import pandas as pd\n",
    "from sklearn import preprocessing\n",
    "\n",
    "x = max_regret_filtered.values #returns a numpy array\n",
    "min_max_scaler = preprocessing.MinMaxScaler()\n",
    "x_scaled = min_max_scaler.fit_transform(x)\n",
    "max_regret_filtered_norm = pd.DataFrame(x_scaled, columns=max_regret_filtered.columns)\n",
    "\n",
    "\n",
    "limits = parcoords.get_limits(max_regret_filtered_norm)\n",
    "#limits.loc[0, ['utility', 'inertia', 'reliability', 'max_P']] = 0\n",
    "\n",
    "paraxes = parcoords.ParallelAxes(limits)\n",
    "paraxes.plot(max_regret_filtered_norm)\n",
    "plt.show()"
   ]
  },
  {
   "cell_type": "code",
   "execution_count": null,
   "metadata": {},
   "outputs": [],
   "source": [
    "from collections import defaultdict\n",
    "\n",
    "policy_regret = defaultdict(dict)\n",
    "for key, value in overall_regret.items():\n",
    "    for policy in value:\n",
    "        policy_regret[policy][key] = value[policy]"
   ]
  },
  {
   "cell_type": "code",
   "execution_count": null,
   "metadata": {},
   "outputs": [],
   "source": [
    "# this generates a 2 by 2 axes grid, with a shared X and Y axis\n",
    "# accross all plots\n",
    "fig, axes = plt.subplots(ncols=2, nrows=2, figsize=(10,10), \n",
    "                         sharey=True, sharex=True)\n",
    "\n",
    "# to ensure easy iteration over the axes grid, we turn it\n",
    "# into a list. Because there are four plots, I hard coded\n",
    "# this. \n",
    "axes = [axes[0,0], axes[0,1],        \n",
    "        axes[1,0],axes[1,1]]\n",
    "\n",
    "# zip allows us to zip together the list of axes and the list of \n",
    "# key value pairs return by items. If we iterate over this\n",
    "# it returns a tuple of length 2. The first item is the ax\n",
    "# the second items is the key value pair.\n",
    "for ax, (policy, regret) in zip(axes, policy_regret.items()):\n",
    "    data = pd.DataFrame(regret)\n",
    "\n",
    "    # we need to scale the regret to ensure fair visual\n",
    "    # comparison. We can do that by divding by the maximum regret\n",
    "    data = data/max_regret.max(axis=0)\n",
    "    sns.boxplot(data=data, ax=ax)\n",
    "    \n",
    "    # removes top and left hand black outline of axes\n",
    "    sns.despine()\n",
    "    \n",
    "    # ensure we know which policy the figure is for\n",
    "    ax.set_title(str(policy))\n",
    "fig.autofmt_xdate()\n",
    "plt.show()"
   ]
  },
  {
   "cell_type": "code",
   "execution_count": null,
   "metadata": {},
   "outputs": [],
   "source": []
  },
  {
   "cell_type": "code",
   "execution_count": null,
   "metadata": {},
   "outputs": [],
   "source": []
  },
  {
   "cell_type": "code",
   "execution_count": null,
   "metadata": {},
   "outputs": [],
   "source": []
  },
  {
   "cell_type": "code",
   "execution_count": null,
   "metadata": {},
   "outputs": [],
   "source": []
  },
  {
   "cell_type": "code",
   "execution_count": null,
   "metadata": {},
   "outputs": [],
   "source": []
  },
  {
   "cell_type": "code",
   "execution_count": null,
   "metadata": {},
   "outputs": [],
   "source": []
  },
  {
   "cell_type": "code",
   "execution_count": null,
   "metadata": {
    "tags": []
   },
   "outputs": [],
   "source": [
    "#esto sirve para filtrar de outcomes\n",
    "outcomes_reev_logical = outcomes_reev['Expected Number of Deaths'] <= 0.0001\n",
    "experiments_reev_of_interest = experiments_reev.loc[outcomes_reev_logical]\n",
    "# outcomes_reev_of_interest_df = pd.DataFrame({k:v[outcomes_reev_logical] for k,v in outcomes_reev.items()})"
   ]
  },
  {
   "cell_type": "code",
   "execution_count": null,
   "metadata": {},
   "outputs": [],
   "source": []
  },
  {
   "cell_type": "code",
   "execution_count": null,
   "metadata": {},
   "outputs": [],
   "source": [
    "max_rfr_costs = 1.1e9\n",
    "max_dike_costs = 304e6\n",
    "outcomes_reev_logical_2 = outcomes_reev_of_interest_df['RfR Investment Costs'] <= max_rfr_costs\n",
    "outcomes_reev_of_interest_df = pd.DataFrame({k:v[outcomes_reev_logical_2] for k,v in outcomes_reev_of_interest_df.items()})"
   ]
  },
  {
   "cell_type": "code",
   "execution_count": null,
   "metadata": {},
   "outputs": [],
   "source": [
    "outcomes_reev_of_interest_df"
   ]
  },
  {
   "cell_type": "code",
   "execution_count": null,
   "metadata": {},
   "outputs": [],
   "source": [
    "# plot results of domain criterion\n",
    "limits = parcoords.get_limits(outcomes_reev_of_interest_df)\n",
    "paraxes = parcoords.ParallelAxes(limits)\n",
    "paraxes.plot(outcomes_reev_of_interest_df)\n",
    "plt.rcParams[\"figure.figsize\"] = (10,15)\n",
    "plt.show()"
   ]
  },
  {
   "cell_type": "markdown",
   "metadata": {},
   "source": [
    "# End of document"
   ]
  },
  {
   "cell_type": "code",
   "execution_count": null,
   "metadata": {},
   "outputs": [],
   "source": []
  },
  {
   "cell_type": "code",
   "execution_count": null,
   "metadata": {},
   "outputs": [],
   "source": []
  },
  {
   "cell_type": "code",
   "execution_count": null,
   "metadata": {},
   "outputs": [],
   "source": []
  },
  {
   "cell_type": "code",
   "execution_count": null,
   "metadata": {},
   "outputs": [],
   "source": []
  },
  {
   "cell_type": "code",
   "execution_count": null,
   "metadata": {},
   "outputs": [],
   "source": []
  },
  {
   "cell_type": "code",
   "execution_count": null,
   "metadata": {},
   "outputs": [],
   "source": []
  },
  {
   "cell_type": "code",
   "execution_count": null,
   "metadata": {},
   "outputs": [],
   "source": []
  },
  {
   "cell_type": "code",
   "execution_count": null,
   "metadata": {},
   "outputs": [],
   "source": []
  },
  {
   "cell_type": "code",
   "execution_count": null,
   "metadata": {},
   "outputs": [],
   "source": []
  },
  {
   "cell_type": "code",
   "execution_count": null,
   "metadata": {},
   "outputs": [],
   "source": []
  },
  {
   "cell_type": "markdown",
   "metadata": {},
   "source": [
    "# 1.3 Re-evaluate candidate solutions under uncertainty"
   ]
  },
  {
   "cell_type": "code",
   "execution_count": null,
   "metadata": {},
   "outputs": [],
   "source": [
    "from ema_workbench import Policy\n",
    "\n",
    "policies = archive.drop([o.name for o in robustnes_functions], axis=1)\n",
    "policies_to_evaluate = []\n",
    "\n",
    "for i, policy in policies.iterrows():\n",
    "    policies_to_evaluate.append(Policy(\"moro {}\".format(i), **policy.to_dict()))"
   ]
  },
  {
   "cell_type": "code",
   "execution_count": null,
   "metadata": {
    "scrolled": true
   },
   "outputs": [],
   "source": [
    "n_scenarios = 1000\n",
    "with MultiprocessingEvaluator(model) as evaluator:\n",
    "    results = evaluator.perform_experiments(n_scenarios,\n",
    "                                            policies_to_evaluate)\n",
    "\n",
    "#start = time.time()\n",
    "#end = time.time()\n",
    "\n",
    "#print('Processing time:',(end-start)/60,'Minutes')"
   ]
  },
  {
   "cell_type": "code",
   "execution_count": null,
   "metadata": {},
   "outputs": [],
   "source": [
    "from ema_workbench import save_results\n",
    "\n",
    "save_results(results, 'MORO_reevaluation.tar.gz')"
   ]
  },
  {
   "cell_type": "code",
   "execution_count": null,
   "metadata": {},
   "outputs": [],
   "source": [
    "policies.to_csv('moro polices.csv')"
   ]
  },
  {
   "cell_type": "code",
   "execution_count": null,
   "metadata": {},
   "outputs": [],
   "source": [
    "import pandas as pd\n",
    "experiments, outcomes = results\n",
    "\n",
    "overall_robustness = {}\n",
    "for policy in np.unique(experiments['policy']):\n",
    "    policy_robustness = {}\n",
    "\n",
    "    logical = experiments['policy'] == policy\n",
    "    \n",
    "    for outcome, values in outcomes.items():\n",
    "        values = values[logical]\n",
    "        policy_robustness[outcome] = robustness_funcs[outcome](values)\n",
    "    overall_robustness[policy] = policy_robustness\n",
    "overall_robustness = pd.DataFrame.from_dict(overall_robustness).T\n",
    "overall_robustness"
   ]
  },
  {
   "cell_type": "code",
   "execution_count": null,
   "metadata": {},
   "outputs": [],
   "source": [
    "\n",
    "data = overall_robustness.loc[:, \n",
    "                              ['Expected Number of Deaths', 'Expected Annual Damage', 'Total Investment Costs']]\n",
    "limits = parcoords.get_limits(data)\n",
    "limits.loc[0, :] = 0\n",
    "limits.loc[1, :] = 1\n",
    "\n",
    "paraxes = parcoords.ParallelAxes(limits)\n",
    "paraxes.plot(data)\n",
    "plt.show()"
   ]
  },
  {
   "cell_type": "code",
   "execution_count": null,
   "metadata": {},
   "outputs": [],
   "source": []
  }
 ],
 "metadata": {
  "kernelspec": {
   "display_name": "Python 3",
   "language": "python",
   "name": "python3"
  },
  "language_info": {
   "codemirror_mode": {
    "name": "ipython",
    "version": 3
   },
   "file_extension": ".py",
   "mimetype": "text/x-python",
   "name": "python",
   "nbconvert_exporter": "python",
   "pygments_lexer": "ipython3",
   "version": "3.7.10"
  }
 },
 "nbformat": 4,
 "nbformat_minor": 4
}
