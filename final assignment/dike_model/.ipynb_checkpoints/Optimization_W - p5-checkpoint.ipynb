{
 "cells": [
  {
   "cell_type": "code",
   "execution_count": 1,
   "metadata": {},
   "outputs": [],
   "source": [
    "import numpy as np\n",
    "import scipy as sp\n",
    "import pandas as pd\n",
    "import matplotlib.pyplot as plt\n",
    "import seaborn as sns\n",
    "import networkx as nx"
   ]
  },
  {
   "cell_type": "code",
   "execution_count": 2,
   "metadata": {},
   "outputs": [
    {
     "name": "stdout",
     "output_type": "stream",
     "text": [
      "1.2.4\n",
      "2.5\n"
     ]
    }
   ],
   "source": [
    "# make sure pandas is version 1.0 or higher\n",
    "# make sure networkx is verion 2.4 or higher\n",
    "print(pd.__version__)\n",
    "print(nx.__version__)"
   ]
  },
  {
   "cell_type": "code",
   "execution_count": 3,
   "metadata": {
    "scrolled": true
   },
   "outputs": [],
   "source": [
    "from ema_workbench import (Model, CategoricalParameter,\n",
    "                           ScalarOutcome, IntegerParameter, RealParameter)\n",
    "from dike_model_function import DikeNetwork  # @UnresolvedImport\n",
    "\n",
    "\n",
    "def sum_over(*args):\n",
    "    return sum(args)"
   ]
  },
  {
   "cell_type": "code",
   "execution_count": 4,
   "metadata": {},
   "outputs": [],
   "source": [
    "from ema_workbench import (Model, MultiprocessingEvaluator, Policy, Scenario)\n",
    "\n",
    "from ema_workbench.em_framework.evaluators import perform_experiments\n",
    "from ema_workbench.em_framework.samplers import sample_uncertainties\n",
    "from ema_workbench.util import ema_logging\n",
    "import time\n",
    "from problem_formulation import get_model_for_problem_formulation\n",
    "\n",
    "\n",
    "ema_logging.log_to_stderr(ema_logging.INFO)\n",
    "\n",
    "#choose problem formulation number, between 0-5\n",
    "#each problem formulation has its own list of outcomes\n",
    "dike_model, planning_steps = get_model_for_problem_formulation(5)"
   ]
  },
  {
   "cell_type": "code",
   "execution_count": 5,
   "metadata": {},
   "outputs": [
    {
     "name": "stdout",
     "output_type": "stream",
     "text": [
      "CategoricalParameter('discount rate 0', [0, 1, 2, 3])\n",
      "CategoricalParameter('discount rate 1', [0, 1, 2, 3])\n",
      "CategoricalParameter('discount rate 2', [0, 1, 2, 3])\n",
      "IntegerParameter('A.0_ID flood wave shape', 0, 132)\n",
      "RealParameter('A.1_Bmax', 30, 350)\n",
      "RealParameter('A.1_pfail', 0, 1)\n",
      "CategoricalParameter('A.1_Brate', [0, 1, 2])\n",
      "RealParameter('A.2_Bmax', 30, 350)\n",
      "RealParameter('A.2_pfail', 0, 1)\n",
      "CategoricalParameter('A.2_Brate', [0, 1, 2])\n",
      "RealParameter('A.3_Bmax', 30, 350)\n",
      "RealParameter('A.3_pfail', 0, 1)\n",
      "CategoricalParameter('A.3_Brate', [0, 1, 2])\n",
      "RealParameter('A.4_Bmax', 30, 350)\n",
      "RealParameter('A.4_pfail', 0, 1)\n",
      "CategoricalParameter('A.4_Brate', [0, 1, 2])\n",
      "RealParameter('A.5_Bmax', 30, 350)\n",
      "RealParameter('A.5_pfail', 0, 1)\n",
      "CategoricalParameter('A.5_Brate', [0, 1, 2])\n"
     ]
    }
   ],
   "source": [
    "#enlisting uncertainties, their types (RealParameter/IntegerParameter/CategoricalParameter), lower boundary, and upper boundary\n",
    "for unc in dike_model.uncertainties:\n",
    "    print(repr(unc))\n",
    "    \n",
    "uncertainties = dike_model.uncertainties\n",
    "\n",
    "import copy\n",
    "uncertainties = copy.deepcopy(dike_model.uncertainties)"
   ]
  },
  {
   "cell_type": "code",
   "execution_count": 6,
   "metadata": {},
   "outputs": [
    {
     "name": "stdout",
     "output_type": "stream",
     "text": [
      "IntegerParameter('0_RfR 0', 0, 1)\n",
      "IntegerParameter('0_RfR 1', 0, 1)\n",
      "IntegerParameter('0_RfR 2', 0, 1)\n",
      "IntegerParameter('1_RfR 0', 0, 1)\n",
      "IntegerParameter('1_RfR 1', 0, 1)\n",
      "IntegerParameter('1_RfR 2', 0, 1)\n",
      "IntegerParameter('2_RfR 0', 0, 1)\n",
      "IntegerParameter('2_RfR 1', 0, 1)\n",
      "IntegerParameter('2_RfR 2', 0, 1)\n",
      "IntegerParameter('3_RfR 0', 0, 1)\n",
      "IntegerParameter('3_RfR 1', 0, 1)\n",
      "IntegerParameter('3_RfR 2', 0, 1)\n",
      "IntegerParameter('4_RfR 0', 0, 1)\n",
      "IntegerParameter('4_RfR 1', 0, 1)\n",
      "IntegerParameter('4_RfR 2', 0, 1)\n",
      "IntegerParameter('EWS_DaysToThreat', 0, 4)\n",
      "IntegerParameter('A.1_DikeIncrease 0', 0, 10)\n",
      "IntegerParameter('A.1_DikeIncrease 1', 0, 10)\n",
      "IntegerParameter('A.1_DikeIncrease 2', 0, 10)\n",
      "IntegerParameter('A.2_DikeIncrease 0', 0, 10)\n",
      "IntegerParameter('A.2_DikeIncrease 1', 0, 10)\n",
      "IntegerParameter('A.2_DikeIncrease 2', 0, 10)\n",
      "IntegerParameter('A.3_DikeIncrease 0', 0, 10)\n",
      "IntegerParameter('A.3_DikeIncrease 1', 0, 10)\n",
      "IntegerParameter('A.3_DikeIncrease 2', 0, 10)\n",
      "IntegerParameter('A.4_DikeIncrease 0', 0, 10)\n",
      "IntegerParameter('A.4_DikeIncrease 1', 0, 10)\n",
      "IntegerParameter('A.4_DikeIncrease 2', 0, 10)\n",
      "IntegerParameter('A.5_DikeIncrease 0', 0, 10)\n",
      "IntegerParameter('A.5_DikeIncrease 1', 0, 10)\n",
      "IntegerParameter('A.5_DikeIncrease 2', 0, 10)\n"
     ]
    }
   ],
   "source": [
    "#enlisting policy levers, their types (RealParameter/IntegerParameter), lower boundary, and upper boundary\n",
    "for policy in dike_model.levers:\n",
    "    print(repr(policy))\n",
    "    \n",
    "levers = dike_model.levers \n",
    "\n",
    "import copy\n",
    "levers = copy.deepcopy(dike_model.levers)"
   ]
  },
  {
   "cell_type": "code",
   "execution_count": 7,
   "metadata": {},
   "outputs": [
    {
     "name": "stdout",
     "output_type": "stream",
     "text": [
      "ScalarOutcome('A.1_Expected Annual Damage 0')\n",
      "ScalarOutcome('A.1_Dike Investment Costs 0')\n",
      "ScalarOutcome('A.1_Expected Number of Deaths 0')\n",
      "ScalarOutcome('A.2_Expected Annual Damage 0')\n",
      "ScalarOutcome('A.2_Dike Investment Costs 0')\n",
      "ScalarOutcome('A.2_Expected Number of Deaths 0')\n",
      "ScalarOutcome('A.3_Expected Annual Damage 0')\n",
      "ScalarOutcome('A.3_Dike Investment Costs 0')\n",
      "ScalarOutcome('A.3_Expected Number of Deaths 0')\n",
      "ScalarOutcome('A.4_Expected Annual Damage 0')\n",
      "ScalarOutcome('A.4_Dike Investment Costs 0')\n",
      "ScalarOutcome('A.4_Expected Number of Deaths 0')\n",
      "ScalarOutcome('A.5_Expected Annual Damage 0')\n",
      "ScalarOutcome('A.5_Dike Investment Costs 0')\n",
      "ScalarOutcome('A.5_Expected Number of Deaths 0')\n",
      "ScalarOutcome('RfR Total Costs 0')\n",
      "ScalarOutcome('Expected Evacuation Costs 0')\n",
      "ScalarOutcome('A.1_Expected Annual Damage 1')\n",
      "ScalarOutcome('A.1_Dike Investment Costs 1')\n",
      "ScalarOutcome('A.1_Expected Number of Deaths 1')\n",
      "ScalarOutcome('A.2_Expected Annual Damage 1')\n",
      "ScalarOutcome('A.2_Dike Investment Costs 1')\n",
      "ScalarOutcome('A.2_Expected Number of Deaths 1')\n",
      "ScalarOutcome('A.3_Expected Annual Damage 1')\n",
      "ScalarOutcome('A.3_Dike Investment Costs 1')\n",
      "ScalarOutcome('A.3_Expected Number of Deaths 1')\n",
      "ScalarOutcome('A.4_Expected Annual Damage 1')\n",
      "ScalarOutcome('A.4_Dike Investment Costs 1')\n",
      "ScalarOutcome('A.4_Expected Number of Deaths 1')\n",
      "ScalarOutcome('A.5_Expected Annual Damage 1')\n",
      "ScalarOutcome('A.5_Dike Investment Costs 1')\n",
      "ScalarOutcome('A.5_Expected Number of Deaths 1')\n",
      "ScalarOutcome('RfR Total Costs 1')\n",
      "ScalarOutcome('Expected Evacuation Costs 1')\n",
      "ScalarOutcome('A.1_Expected Annual Damage 2')\n",
      "ScalarOutcome('A.1_Dike Investment Costs 2')\n",
      "ScalarOutcome('A.1_Expected Number of Deaths 2')\n",
      "ScalarOutcome('A.2_Expected Annual Damage 2')\n",
      "ScalarOutcome('A.2_Dike Investment Costs 2')\n",
      "ScalarOutcome('A.2_Expected Number of Deaths 2')\n",
      "ScalarOutcome('A.3_Expected Annual Damage 2')\n",
      "ScalarOutcome('A.3_Dike Investment Costs 2')\n",
      "ScalarOutcome('A.3_Expected Number of Deaths 2')\n",
      "ScalarOutcome('A.4_Expected Annual Damage 2')\n",
      "ScalarOutcome('A.4_Dike Investment Costs 2')\n",
      "ScalarOutcome('A.4_Expected Number of Deaths 2')\n",
      "ScalarOutcome('A.5_Expected Annual Damage 2')\n",
      "ScalarOutcome('A.5_Dike Investment Costs 2')\n",
      "ScalarOutcome('A.5_Expected Number of Deaths 2')\n",
      "ScalarOutcome('RfR Total Costs 2')\n",
      "ScalarOutcome('Expected Evacuation Costs 2')\n"
     ]
    }
   ],
   "source": [
    "#enlisting outcomes\n",
    "for outcome in dike_model.outcomes:\n",
    "    print(repr(outcome))"
   ]
  },
  {
   "cell_type": "code",
   "execution_count": 32,
   "metadata": {},
   "outputs": [],
   "source": [
    "from ema_workbench import Policy"
   ]
  },
  {
   "cell_type": "code",
   "execution_count": 33,
   "metadata": {},
   "outputs": [],
   "source": [
    "# policy_dict = {}\n",
    "# for i in range(5):\n",
    "#     for j in range(3):\n",
    "#         policy_dict[f'{i}_RfR {j}'] = 0\n",
    "# policy_dict['EWS_DaysToThreat'] = 0\n",
    "# for i in range(1,6):\n",
    "#     for j in range(3):\n",
    "#         policy_dict[f'A.{i}_DikeIncrease {j}'] = 5\n",
    "# policy_dict \n",
    "\n",
    "# policy = [Policy('only_rfr', **policy_dict)]\n",
    "\n",
    "# #pass the policies list to EMA workbench experiment runs\n",
    "# n_scenarios = 5000\n",
    "# with MultiprocessingEvaluator(dike_model) as evaluator:\n",
    "#     experiments, outcomes = evaluator.perform_experiments(n_scenarios,\n",
    "#                                             policy)\n",
    "\n",
    "# from ema_workbench.util import utilities\n",
    "# utilities.save_results((experiments, outcomes), 'dike_5_results.tar.gz')"
   ]
  },
  {
   "cell_type": "code",
   "execution_count": null,
   "metadata": {},
   "outputs": [],
   "source": []
  },
  {
   "cell_type": "code",
   "execution_count": null,
   "metadata": {},
   "outputs": [],
   "source": []
  },
  {
   "cell_type": "code",
   "execution_count": null,
   "metadata": {},
   "outputs": [],
   "source": []
  },
  {
   "cell_type": "markdown",
   "metadata": {},
   "source": [
    "## Optimization"
   ]
  },
  {
   "cell_type": "code",
   "execution_count": 34,
   "metadata": {},
   "outputs": [
    {
     "name": "stderr",
     "output_type": "stream",
     "text": [
      "[MainProcess/INFO] results loaded succesfully from D:\\Willy\\Documents\\GitHub\\Model_based_decision_making\\EPA1361\\final assignment\\results\\basecase_results.tar.gz\n"
     ]
    }
   ],
   "source": [
    "# load the basecase results\n",
    "from ema_workbench import load_results\n",
    "experiments, outcomes = load_results('../results/basecase_results.tar.gz') \n",
    "outcomes_df = pd.DataFrame.from_dict(outcomes)"
   ]
  },
  {
   "cell_type": "code",
   "execution_count": 35,
   "metadata": {},
   "outputs": [],
   "source": [
    "# function to aggregate over time and locations\n",
    "def aggregate_df(df):\n",
    "    df_aggregate_time = pd.DataFrame()\n",
    "    df_aggregate_time_location = pd.DataFrame()\n",
    "    locations = ['A.1', 'A.2', 'A.3', 'A.4', 'A.5']\n",
    "    step = ['0', '1', '2']\n",
    "    metrics = ['Expected Annual Damage', 'Dike Investment Costs', 'Expected Number of Deaths', 'RfR Total Costs', 'Expected Evacuation Costs']\n",
    "    \n",
    "    for metric in metrics:\n",
    "        if metric == \"RfR Total Costs\" or metric == \"Expected Evacuation Costs\":\n",
    "\n",
    "            columns = [metric + ' ' + time for time in step]\n",
    "\n",
    "            df_aggregate_time_location[metric + ' time aggregate'] = outcomes_df[columns].sum(axis=1)\n",
    "        else:\n",
    "            for location in locations:\n",
    "                columns = [location + '_' + metric + ' ' + time for time in step]\n",
    "\n",
    "                df_aggregate_time[location + '_' + metric + ' time aggregate'] = outcomes_df[columns].sum(axis=1)\n",
    "            \n",
    "            columns_locations = [location + '_' + metric + ' time aggregate' for location in locations]\n",
    "            df_aggregate_time_location[metric + ' time location aggregate'] = df_aggregate_time[columns_locations].sum(axis=1)\n",
    "                    \n",
    "\n",
    "    return df_aggregate_time, df_aggregate_time_location"
   ]
  },
  {
   "cell_type": "code",
   "execution_count": 36,
   "metadata": {},
   "outputs": [
    {
     "data": {
      "text/html": [
       "<div>\n",
       "<style scoped>\n",
       "    .dataframe tbody tr th:only-of-type {\n",
       "        vertical-align: middle;\n",
       "    }\n",
       "\n",
       "    .dataframe tbody tr th {\n",
       "        vertical-align: top;\n",
       "    }\n",
       "\n",
       "    .dataframe thead th {\n",
       "        text-align: right;\n",
       "    }\n",
       "</style>\n",
       "<table border=\"1\" class=\"dataframe\">\n",
       "  <thead>\n",
       "    <tr style=\"text-align: right;\">\n",
       "      <th></th>\n",
       "      <th>Expected Annual Damage time location aggregate</th>\n",
       "      <th>Dike Investment Costs time location aggregate</th>\n",
       "      <th>Expected Number of Deaths time location aggregate</th>\n",
       "      <th>RfR Total Costs time aggregate</th>\n",
       "      <th>Expected Evacuation Costs time aggregate</th>\n",
       "    </tr>\n",
       "  </thead>\n",
       "  <tbody>\n",
       "    <tr>\n",
       "      <th>0</th>\n",
       "      <td>2.834163e+09</td>\n",
       "      <td>0</td>\n",
       "      <td>1.931043</td>\n",
       "      <td>0.0</td>\n",
       "      <td>0.0</td>\n",
       "    </tr>\n",
       "    <tr>\n",
       "      <th>1</th>\n",
       "      <td>5.035985e+09</td>\n",
       "      <td>0</td>\n",
       "      <td>5.212136</td>\n",
       "      <td>0.0</td>\n",
       "      <td>0.0</td>\n",
       "    </tr>\n",
       "    <tr>\n",
       "      <th>2</th>\n",
       "      <td>3.860589e+09</td>\n",
       "      <td>0</td>\n",
       "      <td>4.232087</td>\n",
       "      <td>0.0</td>\n",
       "      <td>0.0</td>\n",
       "    </tr>\n",
       "    <tr>\n",
       "      <th>3</th>\n",
       "      <td>2.891039e+09</td>\n",
       "      <td>0</td>\n",
       "      <td>2.097578</td>\n",
       "      <td>0.0</td>\n",
       "      <td>0.0</td>\n",
       "    </tr>\n",
       "    <tr>\n",
       "      <th>4</th>\n",
       "      <td>1.878022e+09</td>\n",
       "      <td>0</td>\n",
       "      <td>3.630789</td>\n",
       "      <td>0.0</td>\n",
       "      <td>0.0</td>\n",
       "    </tr>\n",
       "  </tbody>\n",
       "</table>\n",
       "</div>"
      ],
      "text/plain": [
       "   Expected Annual Damage time location aggregate  \\\n",
       "0                                    2.834163e+09   \n",
       "1                                    5.035985e+09   \n",
       "2                                    3.860589e+09   \n",
       "3                                    2.891039e+09   \n",
       "4                                    1.878022e+09   \n",
       "\n",
       "   Dike Investment Costs time location aggregate  \\\n",
       "0                                              0   \n",
       "1                                              0   \n",
       "2                                              0   \n",
       "3                                              0   \n",
       "4                                              0   \n",
       "\n",
       "   Expected Number of Deaths time location aggregate  \\\n",
       "0                                           1.931043   \n",
       "1                                           5.212136   \n",
       "2                                           4.232087   \n",
       "3                                           2.097578   \n",
       "4                                           3.630789   \n",
       "\n",
       "   RfR Total Costs time aggregate  Expected Evacuation Costs time aggregate  \n",
       "0                             0.0                                       0.0  \n",
       "1                             0.0                                       0.0  \n",
       "2                             0.0                                       0.0  \n",
       "3                             0.0                                       0.0  \n",
       "4                             0.0                                       0.0  "
      ]
     },
     "execution_count": 36,
     "metadata": {},
     "output_type": "execute_result"
    }
   ],
   "source": [
    "df_t, df_tl = aggregate_df(outcomes_df)\n",
    "df_tl.head()"
   ]
  },
  {
   "cell_type": "code",
   "execution_count": 40,
   "metadata": {},
   "outputs": [],
   "source": [
    "# Instantiate the model\n",
    "dike_model, planning_steps = get_model_for_problem_formulation(3)\n",
    "\n",
    "# Redefine the uncertainties\n",
    "dike_model.uncertainties['A.1_pfail'] = RealParameter('A.1_pfail', 0.000120, 0.414252)\n",
    "dike_model.uncertainties['A.3_pfail'] = RealParameter('A.3_pfail', 0.000010, 0.181847)\n",
    "dike_model.uncertainties['A.1_Bmax'] = RealParameter('A.1_Bmax', 30.012525, 298.534935)\n",
    "#dike_model.uncertainties['A.4_Bmax'] = RealParameter('A.4_Bmax', 39.275594, 349.965209)"
   ]
  },
  {
   "cell_type": "code",
   "execution_count": 41,
   "metadata": {},
   "outputs": [],
   "source": [
    "def s_to_n(*data):\n",
    "    mean = np.mean(data)\n",
    "    std = np.std(data)\n",
    "    return mean*std"
   ]
  },
  {
   "cell_type": "code",
   "execution_count": 44,
   "metadata": {},
   "outputs": [],
   "source": [
    "from ema_workbench import (MultiprocessingEvaluator, Policy, Scenario, Constraint)\n",
    "\n",
    "\n",
    "#Making lists of all the disaggregated variables in order to properly use the total aggregated variables\n",
    "\n",
    "#rfr_costs = ['RfR Total Costs 0', 'RfR Total Costs 1', 'RfR Total Costs 2']\n",
    "\n",
    "\n",
    "# evac_costs = ['Expected Evacuation Costs']\n",
    "\n",
    "\n",
    "# total_costs = ['A.1 Total Costs', 'A.2 Total Costs','A.3 Total Costs','A.4 Total Costs', 'A.5 Total Costs']\n",
    "\n",
    "\n",
    "annual_dmg = ['A.1_Expected Annual Damage 0', 'A.1_Expected Annual Damage 1', 'A.1_Expected Annual Damage 2',\n",
    "                   'A.2_Expected Annual Damage 0', 'A.2_Expected Annual Damage 1', 'A.2_Expected Annual Damage 2',\n",
    "                   'A.3_Expected Annual Damage 0', 'A.3_Expected Annual Damage 1', 'A.3_Expected Annual Damage 2',\n",
    "                   'A.4_Expected Annual Damage 0', 'A.4_Expected Annual Damage 1', 'A.4_Expected Annual Damage 2',\n",
    "                   'A.5_Expected Annual Damage 0', 'A.5_Expected Annual Damage 1', 'A.5_Expected Annual Damage 2']\n",
    "\n",
    "\n",
    "dikes = ['A.1_Dike Investment Costs 0', 'A.1_Dike Investment Costs 1', 'A.1_Dike Investment Costs 2',\n",
    "                 'A.2_Dike Investment Costs 0', 'A.2_Dike Investment Costs 1', 'A.2_Dike Investment Costs 2',\n",
    "                 'A.3_Dike Investment Costs 0', 'A.3_Dike Investment Costs 1', 'A.3_Dike Investment Costs 2',\n",
    "                 'A.4_Dike Investment Costs 0', 'A.4_Dike Investment Costs 1', 'A.4_Dike Investment Costs 2',\n",
    "                 'A.5_Dike Investment Costs 0', 'A.5_Dike Investment Costs 1', 'A.5_Dike Investment Costs 2']\n",
    "\n",
    "#rfr_costs = ['RfR Total Costs 0', 'RfR Total Costs 1', 'RfR Total Costs 2']\n",
    "\n",
    "evac_costs = ['Expected Evacuation Costs 0','Expected Evacuation Costs 1', 'Expected Evacuation Costs 2']\n",
    "\n",
    "#Specifying robustness functions. All have to be minimized. All except for the variance will use the 'signal_to_noise' function.\n",
    "#Variance will use the 'signal_to_noise_variation' function, which contains the extra step of first calculating the standard deviation.\n",
    "robustnes_functions = [ScalarOutcome('Annual Damage Costs Score', kind=ScalarOutcome.MINIMIZE, variable_name=annual_dmg, function=s_to_n),\n",
    "                       ScalarOutcome('Dike Costs Score', kind=ScalarOutcome.MINIMIZE, variable_name=dikes, function=s_to_n)\n",
    "                        ScalarOutcome('Evacuation Costs Score', kind=ScalarOutcome.MINIMIZE, variable_name=evac_costs, function=s_to_n)]#,\n",
    "                        #ScalarOutcome('RfR Costs Score', kind=ScalarOutcome.MINIMIZE, variable_name=rfr_costs, function=s_to_n)]\n",
    "\n",
    "max_num_deaths = 0.00001\n",
    "\n",
    "deaths = ['A.1_Expected Number of Deaths 0', 'A.1_Expected Number of Deaths 1', 'A.1_Expected Number of Deaths 2',\n",
    "                   'A.2_Expected Number of Deaths 0', 'A.2_Expected Number of Deaths 1', 'A.2_Expected Number of Deaths 2',\n",
    "                   'A.3_Expected Number of Deaths 0', 'A.3_Expected Number of Deaths 1', 'A.3_Expected Number of Deaths 2',\n",
    "                   'A.4_Expected Number of Deaths 0', 'A.4_Expected Number of Deaths 1', 'A.4_Expected Number of Deaths 2',\n",
    "                   'A.5_Expected Number of Deaths 0', 'A.5_Expected Number of Deaths 1', 'A.5_Expected Number of Deaths 2']\n",
    "\n",
    "constraints = [Constraint(\"max number of deaths A.1 0\", outcome_names=deaths[0],\n",
    "                          function=lambda x:max(0, x-max_num_deaths)),\n",
    "               Constraint(\"max number of deaths A.1 1\", outcome_names=deaths[1],\n",
    "                          function=lambda x:max(0, x-max_num_deaths)),\n",
    "               Constraint(\"max number of deaths A.1 2\", outcome_names=deaths[2],\n",
    "                          function=lambda x:max(0, x-max_num_deaths)),\n",
    "               Constraint(\"max number of deaths A.2 0\", outcome_names=deaths[3],\n",
    "                          function=lambda x:max(0, x-max_num_deaths)),\n",
    "               Constraint(\"max number of deaths A.2 1\", outcome_names=deaths[4],\n",
    "                          function=lambda x:max(0, x-max_num_deaths)),\n",
    "               Constraint(\"max number of deaths A.2 2\", outcome_names=deaths[5],\n",
    "                          function=lambda x:max(0, x-max_num_deaths)),\n",
    "               Constraint(\"max number of deaths A.3 0\", outcome_names=deaths[6],\n",
    "                          function=lambda x:max(0, x-max_num_deaths)),\n",
    "               Constraint(\"max number of deaths A.3 1\", outcome_names=deaths[7],\n",
    "                          function=lambda x:max(0, x-max_num_deaths)),\n",
    "               Constraint(\"max number of deaths A.3 2\", outcome_names=deaths[8],\n",
    "                          function=lambda x:max(0, x-max_num_deaths)),\n",
    "               Constraint(\"max number of deaths A.4 0\", outcome_names=deaths[9],\n",
    "                          function=lambda x:max(0, x-max_num_deaths)),\n",
    "               Constraint(\"max number of deaths A.4 1\", outcome_names=deaths[10],\n",
    "                          function=lambda x:max(0, x-max_num_deaths)),\n",
    "               Constraint(\"max number of deaths A.4 2\", outcome_names=deaths[11],\n",
    "                          function=lambda x:max(0, x-max_num_deaths)),\n",
    "               Constraint(\"max number of deaths A.5 0\", outcome_names=deaths[12],\n",
    "                          function=lambda x:max(0, x-max_num_deaths))\n",
    "               Constraint(\"max number of deaths A.5 1\", outcome_names=deaths[13],\n",
    "                          function=lambda x:max(0, x-max_num_deaths))\n",
    "               Constraint(\"max number of deaths A.5 2\", outcome_names=deaths[14],\n",
    "                          function=lambda x:max(0, x-max_num_deaths))]\n",
    "\n",
    "\n",
    "\n",
    "#deaths = ['A.1_Expected Number of Deaths', 'A.2_Expected Number of Deaths','A.3_Expected Number of Deaths','A.4_Expected Number of Deaths','A.5_Expected Number of Deaths']\n",
    "\n",
    "#Adding the constraint for Room for the River costs.\n",
    "# constraints = [Constraint(\"max number of deaths A.1\", outcome_names=deaths[0],\n",
    "#                           function=lambda x:max(0, x-max_num_deaths)),\n",
    "#                Constraint(\"max number of deaths A.2\", outcome_names=deaths[1],\n",
    "#                           function=lambda x:max(0, x-max_num_deaths)),\n",
    "#                Constraint(\"max number of deaths A.3\", outcome_names=deaths[2],\n",
    "#                           function=lambda x:max(0, x-max_num_deaths)),\n",
    "#                Constraint(\"max number of deaths A.4\", outcome_names=deaths[3],\n",
    "#                           function=lambda x:max(0, x-max_num_deaths)),\n",
    "#                Constraint(\"max number of deaths A.5\", outcome_names=deaths[4],\n",
    "#                           function=lambda x:max(0, x-max_num_deaths))]"
   ]
  },
  {
   "cell_type": "code",
   "execution_count": 45,
   "metadata": {},
   "outputs": [
    {
     "data": {
      "text/plain": [
       "2"
      ]
     },
     "execution_count": 45,
     "metadata": {},
     "output_type": "execute_result"
    }
   ],
   "source": [
    "len(robustnes_functions)"
   ]
  },
  {
   "cell_type": "code",
   "execution_count": 46,
   "metadata": {},
   "outputs": [],
   "source": [
    "from ema_workbench.em_framework import sample_uncertainties\n",
    "n_scenarios = 10\n",
    "scenarios = sample_uncertainties(dike_model, n_scenarios)"
   ]
  },
  {
   "cell_type": "code",
   "execution_count": 47,
   "metadata": {
    "tags": []
   },
   "outputs": [
    {
     "name": "stderr",
     "output_type": "stream",
     "text": [
      "[MainProcess/INFO] pool started\n",
      "[MainProcess/INFO] generation 0: 0/15 nfe\n",
      "[MainProcess/INFO] optimization completed, found 1 solutions\n",
      "[MainProcess/INFO] terminating pool\n",
      "[MainProcess/INFO] results saved successfully to D:\\Willy\\Documents\\GitHub\\Model_based_decision_making\\EPA1361\\final assignment\\dike_model\\optimisation_results.tar.gz\n"
     ]
    },
    {
     "name": "stdout",
     "output_type": "stream",
     "text": [
      "Processing time: 10.793134184678395 Minutes\n"
     ]
    }
   ],
   "source": [
    "from ema_workbench.em_framework.optimization import (HyperVolume, \n",
    "                                                     EpsilonProgress)\n",
    "from ema_workbench.em_framework.evaluators import BaseEvaluator\n",
    "import time\n",
    "\n",
    "ema_logging.log_to_stderr(ema_logging.INFO)\n",
    "\n",
    "convergence = [HyperVolume(minimum=[0, 0], \n",
    "                           maximum=[1e10, 1e6]),\n",
    "               EpsilonProgress()]\n",
    "nfe = int(15)\n",
    "\n",
    "start = time.time()\n",
    "\n",
    "with MultiprocessingEvaluator(dike_model) as evaluator:\n",
    "    archive, convergence = evaluator.robust_optimize(robustnes_functions, scenarios=n_scenarios, \n",
    "                                               nfe=nfe, convergence=convergence,\n",
    "                                               epsilons=[1,0.1],\n",
    "                                               constraint=constraints)\n",
    "    \n",
    "\n",
    "end = time.time()\n",
    "\n",
    "print('Processing time:',(end-start)/60,'Minutes')\n",
    "\n",
    "from ema_workbench.util import utilities\n",
    "utilities.save_results((archive, convergence), 'optimisation_results.tar.gz')"
   ]
  },
  {
   "cell_type": "code",
   "execution_count": 49,
   "metadata": {},
   "outputs": [
    {
     "data": {
      "image/png": "[encoded data removed]",
      "text/plain": [
       "<Figure size 576x288 with 2 Axes>"
      ]
     },
     "metadata": {
      "needs_background": "light"
     },
     "output_type": "display_data"
    }
   ],
   "source": [
    "fig, (ax1, ax2) = plt.subplots(ncols=2, sharex=True, figsize=(8,4))\n",
    "ax1.plot(convergence.nfe, convergence.epsilon_progress)\n",
    "ax1.set_ylabel('$\\epsilon$-progress')\n",
    "ax2.plot(convergence.nfe, convergence.hypervolume)\n",
    "ax2.set_ylabel('hypervolume')\n",
    "\n",
    "ax1.set_xlabel('number of function evaluations')\n",
    "ax2.set_xlabel('number of function evaluations')\n",
    "plt.show()"
   ]
  },
  {
   "cell_type": "code",
   "execution_count": 51,
   "metadata": {},
   "outputs": [
    {
     "data": {
      "image/png": "[encoded data removed]",
      "text/plain": [
       "<Figure size 432x288 with 1 Axes>"
      ]
     },
     "metadata": {},
     "output_type": "display_data"
    }
   ],
   "source": [
    "from ema_workbench.analysis import parcoords\n",
    "\n",
    "data = archive.loc[:, [o.name for o in robustnes_functions]]\n",
    "limits = parcoords.get_limits(data)\n",
    "# limits.loc[0, :] = 0\n",
    "# limits.loc[1, :] = 1\n",
    "\n",
    "paraxes = parcoords.ParallelAxes(limits)\n",
    "paraxes.plot(data)\n",
    "plt.show()"
   ]
  },
  {
   "cell_type": "markdown",
   "metadata": {},
   "source": [
    "### "
   ]
  }
 ],
 "metadata": {
  "kernelspec": {
   "display_name": "Python 3",
   "language": "python",
   "name": "python3"
  },
  "language_info": {
   "codemirror_mode": {
    "name": "ipython",
    "version": 3
   },
   "file_extension": ".py",
   "mimetype": "text/x-python",
   "name": "python",
   "nbconvert_exporter": "python",
   "pygments_lexer": "ipython3",
   "version": "3.7.10"
  }
 },
 "nbformat": 4,
 "nbformat_minor": 4
}
