{
 "cells": [
  {
   "cell_type": "markdown",
   "metadata": {},
   "source": [
    "# Lake model continued\n",
    "\n",
    "In the previous week you used the lake problem as a means of getting aquinted with the workbench. In this assignment we will continue with the lake problem, focussing explicitly on using it for open exploration. You can use the second part of [this tutorial](https://emaworkbench.readthedocs.io/en/latest/indepth_tutorial/open-exploration.html) for help.\n",
    "\n",
    "**It is paramount that you are using the lake problem with 100 decision variables, rather than the one found on the website with the seperate anthropogenic release decision**\n",
    "\n",
    "## Apply sensitivity analysis\n",
    "There is substantial support in the ema_workbench for global sensitivity. For this, the workbench relies on [SALib](https://salib.readthedocs.io/en/latest/) and feature scoring which is a machine learning alternative for global sensitivity analysis. \n",
    "\n",
    "\n",
    "1. Apply Sobol with 3 seperate release policies (0, 0.05, and 0.1) and analyse the results for each release policy seperately focusing on the reliability objective. Do the sensitivities change depending on the release policy? Can you explain why or why not?\n",
    "\n",
    "*hint: you can use sobol sampling for the uncertainties, and set policies to a list with the 3 different release policies. Next, for the analysis using logical indexing on the experiment.policy column you can select the results for each seperate release policy and apply sobol to each of the three seperate release policies. If this sounds too complicated, just do it on each release policy seperately.*\n",
    "\n"
   ]
  },
  {
   "cell_type": "code",
   "execution_count": 29,
   "metadata": {},
   "outputs": [],
   "source": [
    "from lakemodel_function import lake_problem\n",
    "from ema_workbench import Model, RealParameter, ScalarOutcome\n",
    "from ema_workbench import MultiprocessingEvaluator, ema_logging, perform_experiments\n",
    "from ema_workbench.analysis import prim\n",
    "from ema_workbench.analysis import dimensional_stacking\n",
    "from SALib.analyze import sobol\n",
    "from ema_workbench.em_framework.salib_samplers import get_SALib_problem\n",
    "from ema_workbench import Policy\n",
    "\n",
    "from ema_workbench.em_framework.evaluators import SOBOL\n",
    "from ema_workbench.em_framework import get_SALib_problem\n",
    "\n",
    "import pandas as pd\n",
    "import numpy as np\n",
    "import matplotlib.pyplot as plt\n",
    "import matplotlib as mpl\n",
    "import seaborn as sns\n",
    "\n",
    "\n",
    "mpl.rcParams['lines.markersize'] = 3\n",
    "plt.style.use('seaborn-white')"
   ]
  },
  {
   "cell_type": "code",
   "execution_count": 30,
   "metadata": {},
   "outputs": [],
   "source": [
    "# number of levers in the lake_model\n",
    "n_levers = 100\n",
    "\n",
    "model = Model('LakeProblem', function=lake_problem)\n",
    "\n",
    "# specify uncertainties\n",
    "model.uncertainties = [RealParameter('mean', 0.01, 0.05),\n",
    "                       RealParameter('stdev', 0.001, 0.005),\n",
    "                       RealParameter('b', 0.1, 0.45),\n",
    "                       RealParameter('q', 2, 4.5),\n",
    "                       RealParameter('delta', 0.93, 0.99)]\n",
    "\n",
    "# specify levers\n",
    "model.levers = [RealParameter(f\"l{i}\", 0, 0.1) for i in range(n_levers)]\n",
    "\n",
    "# specify outcomes\n",
    "model.outcomes = [ScalarOutcome('max_P'),\n",
    "                  ScalarOutcome('utility'),\n",
    "                  ScalarOutcome('inertia'),\n",
    "                  ScalarOutcome('reliability')]"
   ]
  },
  {
   "cell_type": "code",
   "execution_count": 31,
   "metadata": {},
   "outputs": [],
   "source": [
    "policies = [Policy(\"0\", **{l.name:0 for l in model.levers}),\n",
    "          Policy(\"0.05\", **{l.name:0.05 for l in model.levers}),\n",
    "          Policy(\"0.1\", **{l.name:0.1 for l in model.levers})]"
   ]
  },
  {
   "cell_type": "code",
   "execution_count": 41,
   "metadata": {},
   "outputs": [
    {
     "name": "stderr",
     "output_type": "stream",
     "text": [
      "[MainProcess/INFO] pool started\n",
      "[MainProcess/INFO] performing 1200 scenarios * 3 policies * 1 model(s) = 3600 experiments\n",
      "[MainProcess/INFO] 360 cases completed\n",
      "[MainProcess/INFO] 720 cases completed\n",
      "[MainProcess/INFO] 1080 cases completed\n",
      "[MainProcess/INFO] 1440 cases completed\n",
      "[MainProcess/INFO] 1800 cases completed\n",
      "[MainProcess/INFO] 2160 cases completed\n",
      "[MainProcess/INFO] 2520 cases completed\n",
      "[MainProcess/INFO] 2880 cases completed\n",
      "[MainProcess/INFO] 3240 cases completed\n",
      "[MainProcess/INFO] 3600 cases completed\n",
      "[MainProcess/INFO] experiments finished\n",
      "[MainProcess/INFO] terminating pool\n"
     ]
    }
   ],
   "source": [
    "ema_logging.log_to_stderr(ema_logging.INFO)\n",
    "\n",
    "with MultiprocessingEvaluator(model) as evaluator:\n",
    "    results = evaluator.perform_experiments(scenarios=100, policies=policies , uncertainty_sampling='sobol')\n",
    "\n",
    "experiments, outcomes = results"
   ]
  },
  {
   "cell_type": "code",
   "execution_count": 50,
   "metadata": {},
   "outputs": [],
   "source": [
    "outcomes_names = ['max_P','utility','inertia','reliability']\n",
    "policy_names = ['max_P','utility','inertia','reliability']\n",
    "\n",
    "problem = get_SALib_problem(model.uncertainties)\n",
    "\n",
    "n_policies = len(policies)\n",
    "n_experiments = len(experiments)\n",
    "n_exp_pol = n_experiments/n_policies\n",
    "\n",
    "sa_results\n",
    "\n",
    "for i,policy in zip(range(1,len(policies)+1),:\n",
    "    result = outcomes['reliability'][int(n_exp_pol*(i-1)): int(n_exp_pol*i)]\n",
    "    \n",
    "    sa = sobol.analyze(problem, result,\n",
    "                   calc_second_order=True, print_to_console=False)\n",
    "    sa_results\n",
    "\n",
    "\n"
   ]
  },
  {
   "cell_type": "code",
   "execution_count": 49,
   "metadata": {},
   "outputs": [
    {
     "data": {
      "text/plain": [
       "0.0"
      ]
     },
     "execution_count": 49,
     "metadata": {},
     "output_type": "execute_result"
    }
   ],
   "source": [
    "n_exp_pol*(i-1)"
   ]
  },
  {
   "cell_type": "code",
   "execution_count": 45,
   "metadata": {},
   "outputs": [
    {
     "name": "stdout",
     "output_type": "stream",
     "text": [
      "<enumerate object at 0x000001D06A8D5A48>\n"
     ]
    }
   ],
   "source": [
    "enumerate(policies)"
   ]
  },
  {
   "cell_type": "markdown",
   "metadata": {},
   "source": [
    "We have N = 1200 for each experiment, while SOBOL requires >100(k+2) where k is the number of uncertainties. This means we won't havea strong degree of stability for the SOBOL indices. We chose which uncertainties are relevant or not and then rerun with a lower need of runs."
   ]
  },
  {
   "cell_type": "code",
   "execution_count": 12,
   "metadata": {},
   "outputs": [
    {
     "data": {
      "image/png": "[encoded data removed]",
      "text/plain": [
       "<Figure size 576x432 with 1 Axes>"
      ]
     },
     "metadata": {},
     "output_type": "display_data"
    }
   ],
   "source": [
    "scores_filtered = {k:Si[k] for k in ['ST','ST_conf','S1','S1_conf']}\n",
    "Si_df = pd.DataFrame(scores_filtered, index=problem['names'])\n",
    "\n",
    "#sns.set_style('white')\n",
    "fig, ax = plt.subplots(1)\n",
    "\n",
    "indices = Si_df[['S1','ST']]\n",
    "err = Si_df[['S1_conf','ST_conf']]\n",
    "\n",
    "indices.plot.bar(yerr=err.values.T,ax=ax)\n",
    "fig.set_size_inches(8,6)\n",
    "fig.subplots_adjust(bottom=0.3)\n",
    "plt.show()"
   ]
  },
  {
   "cell_type": "code",
   "execution_count": 22,
   "metadata": {},
   "outputs": [
    {
     "data": {
      "text/plain": [
       "{'ST': array([7.97495098e-01, 1.05107238e-05, 3.98555281e-01, 4.36352655e-01,\n",
       "        1.15253211e-05]),\n",
       " 'ST_conf': array([1.27990056e-01, 8.81204495e-06, 1.13142296e-01, 1.02451219e-01,\n",
       "        7.43913373e-06]),\n",
       " 'S1': array([3.60524784e-01, 8.89174675e-05, 1.78911442e-01, 1.02948915e-01,\n",
       "        1.67052902e-06]),\n",
       " 'S1_conf': array([0.11909252, 0.00074701, 0.07243475, 0.11159539, 0.00054686])}"
      ]
     },
     "execution_count": 22,
     "metadata": {},
     "output_type": "execute_result"
    }
   ],
   "source": [
    "scores_filtered"
   ]
  },
  {
   "cell_type": "markdown",
   "metadata": {},
   "source": [
    "2. Repeat the above analysis for the 3 release policies but now with extra trees feature scoring and for all outcomes of interest. As a bonus, use the sobol experiment results as input for extra trees, and compare the results with those resulting from latin hypercube sampling.\n",
    "\n",
    "*hint: you can use [seaborn heatmaps](https://seaborn.pydata.org/generated/seaborn.heatmap.html) for a nice figure of the results*\n"
   ]
  }
 ],
 "metadata": {
  "kernelspec": {
   "display_name": "Python 3",
   "language": "python",
   "name": "python3"
  },
  "language_info": {
   "codemirror_mode": {
    "name": "ipython",
    "version": 3
   },
   "file_extension": ".py",
   "mimetype": "text/x-python",
   "name": "python",
   "nbconvert_exporter": "python",
   "pygments_lexer": "ipython3",
   "version": "3.7.10"
  }
 },
 "nbformat": 4,
 "nbformat_minor": 4
}
